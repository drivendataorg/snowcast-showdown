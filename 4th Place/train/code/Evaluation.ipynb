{
 "cells": [
  {
   "cell_type": "code",
   "execution_count": 1,
   "id": "fdda3998",
   "metadata": {},
   "outputs": [],
   "source": [
    "import pandas as pd\n",
    "import numpy as np\n",
    "import geopandas as gpd\n",
    "\n",
    "import time\n",
    "import os, sys\n",
    "from glob import glob\n",
    "from pathlib import Path\n",
    "from datetime import datetime, date, timedelta\n",
    "\n",
    "import xarray as xr\n",
    "import rasterio as rio\n",
    "\n",
    "import requests\n",
    "import argparse\n",
    "import tempfile \n",
    "from loguru import logger\n",
    "import tqdm.auto as tq\n",
    "\n",
    "from layers import *\n",
    "from dataset import *\n",
    "\n",
    "from dask.diagnostics import ProgressBar"
   ]
  },
  {
   "cell_type": "code",
   "execution_count": 2,
   "id": "aa4c6bf4",
   "metadata": {},
   "outputs": [],
   "source": [
    "args = argparse.Namespace(\n",
    "    date = '2022-02-03',\n",
    "    timelag = 92,\n",
    "    hrrr_dir ='data/hrrr', \n",
    "    modis_dir = 'data/modis',\n",
    "    grid_cells ='evaluation/grid_cells.geojson',\n",
    "    dem_file = 'data/copernicus_dem/COP90_hh.tif',\n",
    "    soil_file = 'data/global_soil_regions/so2015v2.tif',\n",
    "    hrrr_sample = 'hrrr_sample.grib2',\n",
    "    sun_decline = 'sun_decline.csv',\n",
    "    model_dir = 'weights',\n",
    "    output_file ='submission_single.csv',\n",
    ")"
   ]
  },
  {
   "cell_type": "code",
   "execution_count": 3,
   "id": "f19f9370",
   "metadata": {},
   "outputs": [],
   "source": [
    "def create_ds(date_range, args):\n",
    "        \n",
    "    # Extract data\n",
    "    logger.info(\"Loading HRRR\")\n",
    "    hrrr_ds = load_hrrr(date_range, args)\n",
    "    \n",
    "    logger.info(\"Loading MODIS\")\n",
    "    modis_ds = load_modis(date_range, args)\n",
    "    \n",
    "    # Merge\n",
    "    ds = xr.merge([hrrr_ds, modis_ds])\n",
    "    \n",
    "    logger.info(\"Loading Sun Duration data\")\n",
    "    sun_duration, attrs = load_sundecline(date_range, args)\n",
    "       \n",
    "    logger.info(\"Loading Static data\")\n",
    "    images_dem, images_soil = load_static(args)\n",
    "    \n",
    "    ds = ds.assign(dict(\n",
    "        sd = (['time', 'cell_id'], sun_duration, attrs),\n",
    "        dem = ([\"cell_id\", \"xlat\", \"ylon\"], images_dem),\n",
    "        soil = ([\"cell_id\", \"xlat\", \"ylon\"], images_soil),\n",
    "    ))\n",
    "    return ds"
   ]
  },
  {
   "cell_type": "code",
   "execution_count": 4,
   "id": "80554f1e",
   "metadata": {},
   "outputs": [
    {
     "data": {
      "application/vnd.jupyter.widget-view+json": {
       "model_id": "a2dc196d8446478f822a0a0aba05852e",
       "version_major": 2,
       "version_minor": 0
      },
      "text/plain": [
       "  0%|          | 0/92 [00:00<?, ?it/s]"
      ]
     },
     "metadata": {},
     "output_type": "display_data"
    },
    {
     "data": {
      "application/vnd.jupyter.widget-view+json": {
       "model_id": "40633c8b82784eaea9ad6ab7f76bd8f2",
       "version_major": 2,
       "version_minor": 0
      },
      "text/plain": [
       "  0%|          | 0/92 [00:00<?, ?it/s]"
      ]
     },
     "metadata": {},
     "output_type": "display_data"
    },
    {
     "name": "stderr",
     "output_type": "stream",
     "text": [
      "2022-02-11 13:01:42.303 | INFO     | __main__:create_ds:4 - Loading HRRR\n"
     ]
    },
    {
     "data": {
      "application/vnd.jupyter.widget-view+json": {
       "model_id": "a8ed18abbef240de9d6537e18b31d224",
       "version_major": 2,
       "version_minor": 0
      },
      "text/plain": [
       "  0%|          | 0/3 [00:00<?, ?it/s]"
      ]
     },
     "metadata": {},
     "output_type": "display_data"
    },
    {
     "name": "stderr",
     "output_type": "stream",
     "text": [
      "2022-02-11 13:16:30.571 | INFO     | __main__:create_ds:7 - Loading MODIS\n"
     ]
    },
    {
     "data": {
      "application/vnd.jupyter.widget-view+json": {
       "model_id": "ef703c89ee9146ab9c2ad48584c201df",
       "version_major": 2,
       "version_minor": 0
      },
      "text/plain": [
       "  0%|          | 0/92 [00:00<?, ?it/s]"
      ]
     },
     "metadata": {},
     "output_type": "display_data"
    },
    {
     "name": "stderr",
     "output_type": "stream",
     "text": [
      "2022-02-11 13:32:55.167 | INFO     | __main__:create_ds:13 - Loading Sun Duration data\n",
      "2022-02-11 13:32:57.586 | INFO     | __main__:create_ds:16 - Loading Static data\n"
     ]
    }
   ],
   "source": [
    "# Download files if required:\n",
    "start_date = datetime.strptime(args.date, '%Y-%m-%d')\n",
    "date_range = pd.date_range(\n",
    "        start_date - timedelta(args.timelag), start_date, closed='left', freq='1D')\n",
    "\n",
    "download_hrrr(date_range, args)\n",
    "download_modis(date_range, args)\n",
    "\n",
    "ds = create_ds(date_range, args)"
   ]
  },
  {
   "cell_type": "code",
   "execution_count": 5,
   "id": "e00ae0b4",
   "metadata": {},
   "outputs": [],
   "source": [
    "ds = ds.loc[{\"time\" : date_range}]\n",
    "\n",
    "band = xr.concat([\n",
    "        (ds.t00 - 273.15) / 20,\n",
    "        (ds.t12 - 273.15) / 20,\n",
    "        (ds.sdwe**0.25 - 1),\n",
    "        (ds.pwat - 8) / 7,\n",
    "        ds.refc / 10,\n",
    "        ds.u / 20,\n",
    "        ds.v / 20,\n",
    "        ds.sdwea,\n",
    "        ds.NDSI.ffill('time').fillna(0).reduce(np.nanmean, (\"x\", \"y\")),\n",
    "        (ds.sd / 200) - 3.6,\n",
    "    ], dim = 'feature'\n",
    ")\n",
    "\n",
    "band_values = np.array(band.ffill('time').fillna(0).transpose(\n",
    "    \"cell_id\", \"feature\", \"time\").data)\n",
    "\n",
    "images_dem = ds.dem.data\n",
    "images_soil = ds.soil.data"
   ]
  },
  {
   "cell_type": "code",
   "execution_count": 7,
   "id": "398b350d",
   "metadata": {},
   "outputs": [],
   "source": [
    "grid_cells = gpd.read_file(args.grid_cells)"
   ]
  },
  {
   "cell_type": "code",
   "execution_count": 8,
   "id": "e92d097c",
   "metadata": {},
   "outputs": [
    {
     "name": "stderr",
     "output_type": "stream",
     "text": [
      "2022-02-11 13:49:23.483 | INFO     | __main__:<module>:1 - Loading model\n",
      "2022-02-11 13:49:23.574 | INFO     | __main__:<module>:11 - Evaluating...\n",
      "2022-02-11 13:49:41.897 | INFO     | __main__:<module>:24 - Evaluation completed \n"
     ]
    }
   ],
   "source": [
    "logger.info(\"Loading model\")\n",
    "models = []\n",
    "for fold_idx in range(5):\n",
    "    model = SnowNet(features=10, h_dim=64, width=92, timelag=92)\n",
    "    model.load_state_dict(\n",
    "        torch.load(f'{args.model_dir}/SnowNet_fold_{fold_idx}_last.pt')['model']\n",
    "    )\n",
    "    models.append(model)\n",
    "model = ModelAggregator(models)\n",
    "model.eval();\n",
    "logger.info(\"Evaluating...\")\n",
    "\n",
    "features = torch.from_numpy(band_values).float()\n",
    "dem = torch.from_numpy(images_dem / 1000 - 2.25).float().unsqueeze(1)\n",
    "soil = torch.from_numpy(images_soil).long()\n",
    "\n",
    "with torch.no_grad():\n",
    "    result = model(features, dem, soil).clamp(0)\n",
    "    result = result.detach().cpu().numpy()\n",
    "subm = pd.DataFrame(result,\n",
    "            index=grid_cells.cell_id.values, columns=[args.date])\n",
    "subm.to_csv(args.output_file)\n",
    "\n",
    "logger.info(\"Evaluation completed \")"
   ]
  },
  {
   "cell_type": "code",
   "execution_count": 9,
   "id": "240cf71e",
   "metadata": {},
   "outputs": [
    {
     "data": {
      "text/html": [
       "<div>\n",
       "<style scoped>\n",
       "    .dataframe tbody tr th:only-of-type {\n",
       "        vertical-align: middle;\n",
       "    }\n",
       "\n",
       "    .dataframe tbody tr th {\n",
       "        vertical-align: top;\n",
       "    }\n",
       "\n",
       "    .dataframe thead th {\n",
       "        text-align: right;\n",
       "    }\n",
       "</style>\n",
       "<table border=\"1\" class=\"dataframe\">\n",
       "  <thead>\n",
       "    <tr style=\"text-align: right;\">\n",
       "      <th></th>\n",
       "      <th>2022-02-03</th>\n",
       "    </tr>\n",
       "  </thead>\n",
       "  <tbody>\n",
       "    <tr>\n",
       "      <th>0001daba-dd41-4787-84ab-f7956f7829a8</th>\n",
       "      <td>2.002290</td>\n",
       "    </tr>\n",
       "    <tr>\n",
       "      <th>0006d245-64c1-475f-a989-85f4787bae6a</th>\n",
       "      <td>9.534917</td>\n",
       "    </tr>\n",
       "    <tr>\n",
       "      <th>000a9004-1462-4b8c-96ee-0601aff0fdf7</th>\n",
       "      <td>2.038069</td>\n",
       "    </tr>\n",
       "    <tr>\n",
       "      <th>000ba8d9-d6d5-48da-84a2-1fa54951fae1</th>\n",
       "      <td>2.455909</td>\n",
       "    </tr>\n",
       "    <tr>\n",
       "      <th>00118c37-43a4-4888-a95a-99a85218fda6</th>\n",
       "      <td>3.383721</td>\n",
       "    </tr>\n",
       "  </tbody>\n",
       "</table>\n",
       "</div>"
      ],
      "text/plain": [
       "                                      2022-02-03\n",
       "0001daba-dd41-4787-84ab-f7956f7829a8    2.002290\n",
       "0006d245-64c1-475f-a989-85f4787bae6a    9.534917\n",
       "000a9004-1462-4b8c-96ee-0601aff0fdf7    2.038069\n",
       "000ba8d9-d6d5-48da-84a2-1fa54951fae1    2.455909\n",
       "00118c37-43a4-4888-a95a-99a85218fda6    3.383721"
      ]
     },
     "execution_count": 9,
     "metadata": {},
     "output_type": "execute_result"
    }
   ],
   "source": [
    "subm.head()"
   ]
  },
  {
   "cell_type": "code",
   "execution_count": null,
   "id": "61265f8c",
   "metadata": {},
   "outputs": [],
   "source": []
  }
 ],
 "metadata": {
  "kernelspec": {
   "display_name": "Python 3 (ipykernel)",
   "language": "python",
   "name": "python3"
  },
  "language_info": {
   "codemirror_mode": {
    "name": "ipython",
    "version": 3
   },
   "file_extension": ".py",
   "mimetype": "text/x-python",
   "name": "python",
   "nbconvert_exporter": "python",
   "pygments_lexer": "ipython3",
   "version": "3.8.10"
  }
 },
 "nbformat": 4,
 "nbformat_minor": 5
}
