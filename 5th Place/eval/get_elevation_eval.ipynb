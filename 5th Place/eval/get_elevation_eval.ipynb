{
  "cells": [
    {
      "cell_type": "code",
      "execution_count": null,
      "metadata": {
        "id": "vm_jdNEf-HAy"
      },
      "outputs": [],
      "source": [
        "!pip install pystac_client\n",
        "!pip install planetary_computer\n",
        "!pip install rasterio\n",
        "!pip install xarray-spatial"
      ]
    },
    {
      "cell_type": "code",
      "execution_count": null,
      "metadata": {
        "id": "nqOkTpVfCvi7"
      },
      "outputs": [],
      "source": [
        "from google.colab import drive\n",
        "drive.mount('/content/drive')"
      ]
    },
    {
      "cell_type": "code",
      "execution_count": null,
      "metadata": {
        "id": "muqUwpX4_9o7"
      },
      "outputs": [],
      "source": [
        "import json\n",
        "import pandas as pd\n",
        "import numpy as np\n",
        "from collections import defaultdict\n",
        "from pystac_client import Client\n",
        "import planetary_computer\n",
        "import xarray\n",
        "import time"
      ]
    },
    {
      "cell_type": "markdown",
      "metadata": {
        "id": "bUIQBQ-UI_Z0"
      },
      "source": [
        "### Import Base Data Files"
      ]
    },
    {
      "cell_type": "code",
      "execution_count": null,
      "metadata": {
        "id": "mshiRZnECY4C"
      },
      "outputs": [],
      "source": [
        "ground_measures_metadata = pd.read_csv('/content/drive/MyDrive/snocast/eval/ground_measures_metadata.csv')\n",
        "submission_format = pd.read_csv('/content/drive/MyDrive/snocast/eval/submission_format.csv')"
      ]
    },
    {
      "cell_type": "code",
      "execution_count": null,
      "metadata": {
        "id": "lBpi19GiERNQ"
      },
      "outputs": [],
      "source": [
        "# get latitude longitude for train and test grids\n",
        "f = open('/content/drive/MyDrive/snocast/eval/grid_cells.geojson')\n",
        "grid_cells = json.load(f)\n",
        "print('length grid_cells features: ', len(grid_cells['features']))"
      ]
    },
    {
      "cell_type": "code",
      "execution_count": null,
      "metadata": {
        "id": "FZlcSfg8O7O1"
      },
      "outputs": [],
      "source": [
        "ids = []\n",
        "lats = []\n",
        "lons = []\n",
        "regions = []\n",
        "bboxes = []\n",
        "\n",
        "for grid_cell in grid_cells['features']:\n",
        "    cell_id = grid_cell['properties']['cell_id']\n",
        "    region = grid_cell['properties']['region']\n",
        "    coordinates = grid_cell['geometry']['coordinates'][0]\n",
        "    lon, lat = np.mean(coordinates, axis=0)\n",
        "    northeast_corner = np.max(coordinates, axis=0)\n",
        "    southwest_corner = np.min(coordinates, axis=0)\n",
        "    # bbox = [min_lon, min_lat, max_lon, max_lat]\n",
        "    bbox = np.concatenate([southwest_corner,northeast_corner])\n",
        "    ids.append(cell_id)\n",
        "    lats.append(lat)\n",
        "    lons.append(lon)\n",
        "    regions.append(region)\n",
        "    bboxes.append(bbox)\n",
        "\n",
        "grid_cells_pd = pd.DataFrame({'cell_id': ids, \n",
        "                             'latitude': lats, \n",
        "                             'longitude': lons,\n",
        "                             'region': regions, \n",
        "                             'bbox': bboxes})"
      ]
    },
    {
      "cell_type": "markdown",
      "metadata": {
        "id": "8cI2IEu497Ya"
      },
      "source": [
        "## Get Data for Copernicus Digital Elevation Model (DEM)"
      ]
    },
    {
      "cell_type": "code",
      "execution_count": null,
      "metadata": {
        "id": "GEpn6lCK97FB"
      },
      "outputs": [],
      "source": [
        "client = Client.open(\n",
        "    \"https://planetarycomputer.microsoft.com/api/stac/v1\",\n",
        "    ignore_conformance=True,\n",
        ")"
      ]
    },
    {
      "cell_type": "code",
      "execution_count": null,
      "metadata": {
        "id": "aqVEWsqFb1OV"
      },
      "outputs": [],
      "source": [
        "all_max_lat = grid_cells_pd.latitude.max()\n",
        "all_min_lat = grid_cells_pd.latitude.min()\n",
        "all_max_lon = grid_cells_pd.longitude.max()\n",
        "all_min_lon = grid_cells_pd.longitude.min()\n",
        "all_bbox = [all_min_lon, all_min_lat, all_max_lon, all_max_lat]\n",
        "print(all_min_lon, all_min_lat, all_max_lon, all_max_lat)"
      ]
    },
    {
      "cell_type": "code",
      "execution_count": null,
      "metadata": {
        "id": "fZJitrDvcZhh"
      },
      "outputs": [],
      "source": [
        "search = client.search(\n",
        "      collections=[\"cop-dem-glo-30\"],\n",
        "      bbox=all_bbox,\n",
        "      max_items=500,\n",
        "  )\n",
        "\n",
        "items = list(search.get_items())\n",
        "if len(items) > 1:\n",
        "  print(f\"Returned {len(items)} items\")"
      ]
    },
    {
      "cell_type": "code",
      "execution_count": null,
      "metadata": {
        "id": "AWPHm6eKcaiQ"
      },
      "outputs": [],
      "source": [
        "# Ran in 30 min. for 295 items\n",
        "processed_items = []\n",
        "for i in range(len(items)):\n",
        "  signed_asset = planetary_computer.sign(items[i].assets[\"data\"])\n",
        "  data = (\n",
        "      xarray.open_rasterio(signed_asset.href)\n",
        "      .squeeze()\n",
        "      .drop(\"band\")\n",
        "      .coarsen({\"y\": 5, \"x\": 5})\n",
        "      .mean()\n",
        "  )\n",
        "  processed_items.append(data)"
      ]
    },
    {
      "cell_type": "code",
      "execution_count": null,
      "metadata": {
        "id": "k6htFmbV-Nst"
      },
      "outputs": [],
      "source": [
        "mean_elevations = []\n",
        "var_elevations = []\n",
        "\n",
        "for idx, row in grid_cells_pd.iterrows():\n",
        "  # if idx < 2263:\n",
        "  #   continue\n",
        "  if idx % 100 == 0:\n",
        "    print(idx)\n",
        "  min_lon, min_lat, max_lon, max_lat = row['bbox']\n",
        "\n",
        "  sample_elevations = np.array([])\n",
        "  for data in processed_items:\n",
        "    lat_values = (data.y.values < max_lat) & (data.y.values > min_lat)\n",
        "    lon_values = (data.x.values < max_lon) & (data.x.values > min_lon)\n",
        "    mask = lon_values[np.newaxis, :] & lat_values[:, np.newaxis]\n",
        "    sample_elevations = np.concatenate([sample_elevations, data.values[mask]])\n",
        "  mean_elevation_m = sample_elevations.mean()\n",
        "  var_elevation_m = sample_elevations.var()\n",
        "  mean_elevations.append(mean_elevation_m)\n",
        "  var_elevations.append(var_elevation_m)"
      ]
    },
    {
      "cell_type": "code",
      "execution_count": null,
      "metadata": {
        "id": "K5dj1DYMJTaP"
      },
      "outputs": [],
      "source": [
        "print(idx)\n",
        "print(len(var_elevations))\n",
        "print(len(mean_elevations))"
      ]
    },
    {
      "cell_type": "code",
      "execution_count": null,
      "metadata": {
        "id": "VkgqfRPzVmuf"
      },
      "outputs": [],
      "source": [
        "grid_cells_pd['elevation_m'] = mean_elevations\n",
        "grid_cells_pd['elevation_var_m'] = var_elevations"
      ]
    },
    {
      "cell_type": "code",
      "execution_count": null,
      "metadata": {
        "id": "FiYcmi_Bdg0o"
      },
      "outputs": [],
      "source": [
        "grid_cells_pd = grid_cells_pd[['cell_id', 'latitude', 'longitude', 'region', 'elevation_m','elevation_var_m']]"
      ]
    },
    {
      "cell_type": "code",
      "execution_count": null,
      "metadata": {
        "id": "Ll9jT1PSdkzm"
      },
      "outputs": [],
      "source": [
        "grid_cells_pd.sample(3)"
      ]
    },
    {
      "cell_type": "code",
      "execution_count": null,
      "metadata": {
        "id": "lTErwOkXHXxZ"
      },
      "outputs": [],
      "source": [
        "grid_cells_pd.to_parquet('/content/drive/MyDrive/snocast/eval/data/static/grid_cells_elev.parquet')"
      ]
    }
  ],
  "metadata": {
    "colab": {
      "background_execution": "on",
      "collapsed_sections": [],
      "machine_shape": "hm",
      "name": "get_elevation_eval.ipynb",
      "provenance": []
    },
    "kernelspec": {
      "display_name": "Python 3.8.13 ('test-env')",
      "language": "python",
      "name": "python3"
    },
    "language_info": {
      "name": "python",
      "version": "3.8.13"
    },
    "vscode": {
      "interpreter": {
        "hash": "2de28f3ad7dd53d2a011fa8319efeaa9697028b633ab3b8e0b37bcc0e58faf2b"
      }
    }
  },
  "nbformat": 4,
  "nbformat_minor": 0
}
