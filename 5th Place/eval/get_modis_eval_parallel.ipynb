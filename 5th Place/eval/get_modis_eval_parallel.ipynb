{
  "nbformat": 4,
  "nbformat_minor": 0,
  "metadata": {
    "colab": {
      "name": "get_modis_eval_parallel.ipynb",
      "provenance": [],
      "machine_shape": "hm",
      "background_execution": "on",
      "collapsed_sections": []
    },
    "kernelspec": {
      "name": "python3",
      "display_name": "Python 3"
    },
    "language_info": {
      "name": "python"
    }
  },
  "cells": [
    {
      "cell_type": "code",
      "source": [
        "from google.colab import drive\n",
        "drive.mount('/content/drive')"
      ],
      "metadata": {
        "id": "hulA24FNQ1m5"
      },
      "execution_count": null,
      "outputs": []
    },
    {
      "cell_type": "code",
      "source": [
        "import ee\n",
        "import json\n",
        "import pandas as pd\n",
        "import numpy as np\n",
        "import datetime"
      ],
      "metadata": {
        "id": "G8ViTTAaQ6H6"
      },
      "execution_count": null,
      "outputs": []
    },
    {
      "cell_type": "markdown",
      "source": [
        "## Import Base Data Files"
      ],
      "metadata": {
        "id": "IezUf5ccSSn6"
      }
    },
    {
      "cell_type": "code",
      "source": [
        "#ground_measures_metadata = pd.read_csv('/content/drive/MyDrive/snocast/eval/data/ground_measures_metadata.csv')\n",
        "submission_format = pd.read_csv('/content/drive/MyDrive/snocast/eval/data/submission_format.csv')\n",
        "run_date = '2022-02-10'\n",
        "lookback = 15"
      ],
      "metadata": {
        "id": "9Lg6EdLiRZ8_"
      },
      "execution_count": null,
      "outputs": []
    },
    {
      "cell_type": "code",
      "source": [
        "# get latitude longitude for grids\n",
        "f = open('/content/drive/MyDrive/snocast/eval/data/grid_cells.geojson')\n",
        "grid_cells = json.load(f)\n",
        "print('length grid_cells features: ', len(grid_cells['features']))\n",
        "\n",
        "ids = []\n",
        "lats = []\n",
        "lons = []\n",
        "bboxes = []\n",
        "\n",
        "for grid_cell in grid_cells['features']:\n",
        "    cell_id = grid_cell['properties']['cell_id']\n",
        "    coordinates = grid_cell['geometry']['coordinates'][0]\n",
        "    lon, lat = np.mean(coordinates, axis=0)\n",
        "    northeast_corner = np.max(coordinates, axis=0)\n",
        "    southwest_corner = np.min(coordinates, axis=0)\n",
        "    # bbox = [min_lon, min_lat, max_lon, max_lat]\n",
        "    bbox = np.concatenate([southwest_corner,northeast_corner])\n",
        "    ids.append(cell_id)\n",
        "    lats.append(lat)\n",
        "    lons.append(lon)\n",
        "    bboxes.append(bbox)\n",
        "\n",
        "grid_cells_pd = pd.DataFrame({'location_id': ids, \n",
        "                             'latitude': lats, \n",
        "                             'longitude': lons, \n",
        "                             'bbox': bboxes})"
      ],
      "metadata": {
        "id": "k0GJtFEFR7mj"
      },
      "execution_count": null,
      "outputs": []
    },
    {
      "cell_type": "code",
      "source": [
        "df_parts = np.array_split(grid_cells_pd,5)"
      ],
      "metadata": {
        "id": "rFYIZzh-E1Tg"
      },
      "execution_count": null,
      "outputs": []
    },
    {
      "cell_type": "code",
      "source": [
        "df_file_paths = []\n",
        "for part, df_part in enumerate(df_parts):\n",
        "  file_path = f'/content/drive/MyDrive/snocast/eval/data/modis/df_parts/df_{run_date}_{part}.parquet'\n",
        "  df_part.to_parquet(file_path)\n",
        "  df_file_paths.append(file_path)"
      ],
      "metadata": {
        "id": "3ZsFS_4dFN5S"
      },
      "execution_count": null,
      "outputs": []
    },
    {
      "cell_type": "code",
      "source": [
        "file_path_0 = df_file_paths[0]\n",
        "file_path_1 = df_file_paths[1]\n",
        "file_path_2 = df_file_paths[2]\n",
        "file_path_3 = df_file_paths[3]\n",
        "file_path_4 = df_file_paths[4]"
      ],
      "metadata": {
        "id": "8xI2DD3JG97W"
      },
      "execution_count": null,
      "outputs": []
    },
    {
      "cell_type": "code",
      "source": [
        "!nohup python /content/drive/MyDrive/snocast/eval/modis_parallel.py $file_path_0 -d $run_date -n 0 > modis_0.log &"
      ],
      "metadata": {
        "id": "MjJi8IOpGLIM"
      },
      "execution_count": null,
      "outputs": []
    },
    {
      "cell_type": "code",
      "source": [
        "!nohup python /content/drive/MyDrive/snocast/eval/modis_parallel.py $file_path_1 -d $run_date -n 1 > modis_1.log &"
      ],
      "metadata": {
        "id": "xO6D4WYjG1L5"
      },
      "execution_count": null,
      "outputs": []
    },
    {
      "cell_type": "code",
      "source": [
        "!nohup python /content/drive/MyDrive/snocast/eval/modis_parallel.py $file_path_2 -d $run_date -n 2 > modis_2.log &"
      ],
      "metadata": {
        "id": "j7arjRdeIbSK"
      },
      "execution_count": null,
      "outputs": []
    },
    {
      "cell_type": "code",
      "source": [
        "!nohup python /content/drive/MyDrive/snocast/eval/modis_parallel.py $file_path_3 -d $run_date -n 3 > modis_3.log &"
      ],
      "metadata": {
        "id": "I0NuN71eI2-A"
      },
      "execution_count": null,
      "outputs": []
    },
    {
      "cell_type": "code",
      "source": [
        "!nohup python /content/drive/MyDrive/snocast/eval/modis_parallel.py $file_path_4 -d $run_date -n 4 > modis_4.log &"
      ],
      "metadata": {
        "id": "r0B5GVNySU71"
      },
      "execution_count": null,
      "outputs": []
    },
    {
      "cell_type": "code",
      "source": [
        "terra_df_parts = []\n",
        "aqua_df_parts = []\n",
        "\n",
        "for i in range(5):\n",
        "  terra_df_part = pd.read_parquet(f'/content/drive/MyDrive/snocast/eval/data/modis/modis_parts/modis_terra_{run_date}_{i}.parquet')\n",
        "  terra_df_parts.append(terra_df_part)\n",
        "  aqua_df_part = pd.read_parquet(f'/content/drive/MyDrive/snocast/eval/data/modis/modis_parts/modis_aqua_{run_date}_{i}.parquet')\n",
        "  aqua_df_parts.append(aqua_df_part)"
      ],
      "metadata": {
        "id": "KgQBHzWZJEAv"
      },
      "execution_count": null,
      "outputs": []
    },
    {
      "cell_type": "code",
      "source": [
        "terra_df = pd.concat(terra_df_parts).reset_index(drop=True)\n",
        "aqua_df = pd.concat(aqua_df_parts).reset_index(drop=True)"
      ],
      "metadata": {
        "id": "EWv1mlRadBVz"
      },
      "execution_count": null,
      "outputs": []
    },
    {
      "cell_type": "code",
      "source": [
        "terra_df.shape"
      ],
      "metadata": {
        "id": "PD31xLOnxstf"
      },
      "execution_count": null,
      "outputs": []
    },
    {
      "cell_type": "code",
      "source": [
        "aqua_df.shape"
      ],
      "metadata": {
        "id": "1y4VfC5vxsiz"
      },
      "execution_count": null,
      "outputs": []
    },
    {
      "cell_type": "code",
      "source": [
        "terra_df.to_parquet(f'/content/drive/MyDrive/snocast/eval/data/modis/modis_terra_{run_date}.parquet')\n",
        "aqua_df.to_parquet(f'/content/drive/MyDrive/snocast/eval/data/modis/modis_aqua_{run_date}.parquet')"
      ],
      "metadata": {
        "id": "Z2cKatfssxsH"
      },
      "execution_count": null,
      "outputs": []
    },
    {
      "cell_type": "code",
      "source": [
        ""
      ],
      "metadata": {
        "id": "KG_a_HpOfhq1"
      },
      "execution_count": null,
      "outputs": []
    }
  ]
}