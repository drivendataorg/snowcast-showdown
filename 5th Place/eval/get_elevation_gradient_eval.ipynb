{
  "cells": [
    {
      "cell_type": "markdown",
      "metadata": {
        "id": "zgLU5OtF-uUf"
      },
      "source": [
        "# Get Elevation gradient data from Copernicus Digital Elevation Model (DEM)\n",
        "Elevation data was provided for the ground measures but not for the test and train datasets. This notebook pulls the elevation gradient for the test and train grid cells and saves it into the data/static directory."
      ]
    },
    {
      "cell_type": "code",
      "execution_count": null,
      "metadata": {
        "id": "ujSkaroF-hXE"
      },
      "outputs": [],
      "source": [
        "!pip install pystac_client\n",
        "!pip install planetary_computer\n",
        "!pip install rasterio\n",
        "!pip install xarray-spatial"
      ]
    },
    {
      "cell_type": "code",
      "execution_count": null,
      "metadata": {
        "id": "nqOkTpVfCvi7"
      },
      "outputs": [],
      "source": [
        "from google.colab import drive\n",
        "drive.mount('/content/drive')"
      ]
    },
    {
      "cell_type": "code",
      "execution_count": null,
      "metadata": {
        "id": "muqUwpX4_9o7"
      },
      "outputs": [],
      "source": [
        "import json\n",
        "import pandas as pd\n",
        "import numpy as np\n",
        "import planetary_computer\n",
        "import xarray\n",
        "import time\n",
        "from collections import defaultdict\n",
        "from pystac_client import Client\n",
        "import rasterio\n",
        "from rasterio import windows\n",
        "from rasterio import features\n",
        "from rasterio import warp\n",
        "from matplotlib import pyplot as plt"
      ]
    },
    {
      "cell_type": "markdown",
      "metadata": {
        "id": "bUIQBQ-UI_Z0"
      },
      "source": [
        "### Import Base Data Files"
      ]
    },
    {
      "cell_type": "code",
      "execution_count": null,
      "metadata": {
        "id": "mshiRZnECY4C"
      },
      "outputs": [],
      "source": [
        "ground_measures_metadata = pd.read_csv('/content/drive/MyDrive/snocast/eval/data/ground_measures_metadata.csv')\n",
        "submission_format = pd.read_csv('/content/drive/MyDrive/snocast/eval/data/submission_format.csv')"
      ]
    },
    {
      "cell_type": "code",
      "execution_count": null,
      "metadata": {
        "id": "lBpi19GiERNQ"
      },
      "outputs": [],
      "source": [
        "# get latitude longitude for grids\n",
        "f = open('/content/drive/MyDrive/snocast/eval/data/grid_cells.geojson')\n",
        "grid_cells = json.load(f)\n",
        "print('length grid_cells features: ', len(grid_cells['features']))\n",
        "\n",
        "grid_features = defaultdict(dict)\n",
        "for grid_cell in grid_cells['features']:\n",
        "  cell_id = grid_cell['properties']['cell_id']\n",
        "  coordinates = grid_cell['geometry']['coordinates'][0]\n",
        "  region = grid_cell['properties']['region']\n",
        "  grid_features[cell_id] = {'coordinates': coordinates[1:],\n",
        "                            'region': region,\n",
        "                            'geometry': grid_cell['geometry']}\n",
        "\n",
        "ids = []\n",
        "lats = []\n",
        "lons = []\n",
        "bboxes = []\n",
        "\n",
        "for grid_cell in grid_cells['features']:\n",
        "    cell_id = grid_cell['properties']['cell_id']\n",
        "    coordinates = grid_cell['geometry']['coordinates'][0]\n",
        "    lon, lat = np.mean(coordinates, axis=0)\n",
        "    northeast_corner = np.max(coordinates, axis=0)\n",
        "    southwest_corner = np.min(coordinates, axis=0)\n",
        "    # bbox = [min_lon, min_lat, max_lon, max_lat]\n",
        "    bbox = np.concatenate([southwest_corner,northeast_corner])\n",
        "    ids.append(cell_id)\n",
        "    lats.append(lat)\n",
        "    lons.append(lon)\n",
        "    bboxes.append(bbox)\n",
        "\n",
        "grid_cells_pd = pd.DataFrame({'location_id': ids, \n",
        "                             'latitude': lats, \n",
        "                             'longitude': lons, \n",
        "                             'bbox': bboxes})"
      ]
    },
    {
      "cell_type": "markdown",
      "metadata": {
        "id": "8cI2IEu497Ya"
      },
      "source": [
        "## Get Data for Copernicus Digital Elevation Model (DEM)"
      ]
    },
    {
      "cell_type": "code",
      "execution_count": null,
      "metadata": {
        "id": "7EuGyCxUiSD_"
      },
      "outputs": [],
      "source": [
        "def read_band(href, aoi):\n",
        "    with rasterio.open(href) as ds:\n",
        "        aoi_bounds = features.bounds(aoi)\n",
        "        warped_aoi_bounds = warp.transform_bounds(\"epsg:4326\", ds.crs, *aoi_bounds)\n",
        "        aoi_window = windows.from_bounds(transform=ds.transform, *warped_aoi_bounds)\n",
        "        try:\n",
        "          data = ds.read(1, window=aoi_window)\n",
        "        except:\n",
        "          data = x = np.array([[0, 0],[0, 0]])\n",
        "        return data"
      ]
    },
    {
      "cell_type": "code",
      "execution_count": null,
      "metadata": {
        "id": "GEpn6lCK97FB"
      },
      "outputs": [],
      "source": [
        "client = Client.open(\n",
        "    \"https://planetarycomputer.microsoft.com/api/stac/v1\",\n",
        "    ignore_conformance=True,\n",
        ")"
      ]
    },
    {
      "cell_type": "code",
      "execution_count": null,
      "metadata": {
        "id": "EGdXRSrWSlyL"
      },
      "outputs": [],
      "source": [
        "df = grid_cells_pd"
      ]
    },
    {
      "cell_type": "code",
      "execution_count": null,
      "metadata": {
        "id": "MwnAYARmTaE7"
      },
      "outputs": [],
      "source": [
        "df.head()"
      ]
    },
    {
      "cell_type": "code",
      "execution_count": null,
      "metadata": {
        "id": "7hL1TVxwWL5-"
      },
      "outputs": [],
      "source": [
        "aoi = grid_features['0001daba-dd41-4787-84ab-f7956f7829a8']['geometry']\n",
        "aoi"
      ]
    },
    {
      "cell_type": "code",
      "execution_count": null,
      "metadata": {
        "id": "TmAG_V28Sfk-"
      },
      "outputs": [],
      "source": [
        "# Get all relevant items within the lat/lon bounds of the df\n",
        "search = client.search(\n",
        "    collections=[\"cop-dem-glo-30\"],\n",
        "    intersects=aoi,\n",
        ")\n",
        "\n",
        "items = list(search.get_items())\n",
        "print(f\"Returned {len(items)} items\")"
      ]
    },
    {
      "cell_type": "code",
      "execution_count": null,
      "metadata": {
        "id": "IIvMYakRh2l8"
      },
      "outputs": [],
      "source": [
        "signed_asset = planetary_computer.sign(items[0].assets[\"data\"])\n",
        "elev_matrix = read_band(signed_asset.href, aoi)"
      ]
    },
    {
      "cell_type": "code",
      "execution_count": null,
      "metadata": {
        "id": "rUnH1cTAfTfp"
      },
      "outputs": [],
      "source": [
        "plt.imshow(elev_matrix)\n",
        "plt.colorbar()"
      ]
    },
    {
      "cell_type": "code",
      "execution_count": null,
      "metadata": {
        "id": "pomU9Gnkj63U"
      },
      "outputs": [],
      "source": [
        "southern_gradient = -1*np.diff(elev_matrix, axis=0)\n",
        "plt.imshow(southern_gradient)\n",
        "plt.colorbar()\n",
        "print(southern_gradient.mean())"
      ]
    },
    {
      "cell_type": "code",
      "execution_count": null,
      "metadata": {
        "id": "RerGjz4fV7HA"
      },
      "outputs": [],
      "source": [
        "eastern_gradient = np.diff(elev_matrix, axis=1)\n",
        "plt.imshow(eastern_gradient)\n",
        "plt.colorbar()\n",
        "print(eastern_gradient.mean())"
      ]
    },
    {
      "cell_type": "code",
      "execution_count": null,
      "metadata": {
        "id": "0-NV-oTkaInq"
      },
      "outputs": [],
      "source": [
        "def get_elevations(df):\n",
        "  east_grads = []\n",
        "  south_grads = []\n",
        "  east_pcts = []\n",
        "  south_pcts = []\n",
        "  ids = []\n",
        "\n",
        "  for idx, row in df.iterrows():\n",
        "    if idx % 250 == 0:\n",
        "      print(idx)\n",
        "    cell_id = row['location_id']\n",
        "    aoi = grid_features[cell_id]['geometry']\n",
        "\n",
        "    # Get all relevant items within the lat/lon bounds of the df\n",
        "    search = client.search(\n",
        "        collections=[\"cop-dem-glo-30\"],\n",
        "        intersects=aoi,\n",
        "    )\n",
        "\n",
        "    need_item = True\n",
        "    num_tries = 0\n",
        "    while need_item:\n",
        "      try:\n",
        "        items = list(search.get_items())\n",
        "        need_item = False\n",
        "      except:\n",
        "        num_tries += 1\n",
        "        print('exception')\n",
        "        time.sleep(1)\n",
        "        if num_tries > 3:\n",
        "          need_item = False\n",
        "          print('give up')\n",
        "    \n",
        "    if num_tries <= 3:\n",
        "      loc_east_grads = []\n",
        "      loc_south_grads = []\n",
        "      loc_east_low = []\n",
        "      loc_south_low = []\n",
        "      loc_east_size = []\n",
        "      loc_south_size = []\n",
        "      for item in items:\n",
        "        signed_asset = planetary_computer.sign(item.assets[\"data\"])\n",
        "        elev_matrix = read_band(signed_asset.href, aoi)\n",
        "        eastern_grad = (np.diff(elev_matrix, axis=1))\n",
        "        e_h, e_w = eastern_grad.shape\n",
        "        east_low = (eastern_grad > 0).sum()\n",
        "        east_size = e_h*e_w\n",
        "        southern_grad = (-1*np.diff(elev_matrix, axis=0))\n",
        "        s_h, s_w = southern_grad.shape\n",
        "        south_low = (southern_grad > 0).sum()\n",
        "        south_size = s_h*s_w\n",
        "        loc_east_grads.append(eastern_grad.mean())\n",
        "        loc_south_grads.append(southern_grad.mean())\n",
        "        loc_east_low.append(east_low)\n",
        "        loc_east_size.append(east_size)\n",
        "        loc_south_low.append(south_low)\n",
        "        loc_south_size.append(south_size)\n",
        "\n",
        "      east_pct = np.sum(loc_east_low)/np.sum(loc_east_size)\n",
        "      east_pcts.append(east_pct)\n",
        "      east_grads.append(np.mean(loc_east_grads))\n",
        "      south_pct = np.sum(loc_south_low)/np.sum(loc_south_size)\n",
        "      south_pcts.append(south_pct)\n",
        "      south_grads.append(np.mean(loc_south_grads))\n",
        "      ids.append(cell_id)\n",
        "\n",
        "  return east_grads, south_grads, ids, east_pcts, south_pcts\n"
      ]
    },
    {
      "cell_type": "code",
      "execution_count": null,
      "metadata": {
        "id": "6w0zOTGbeNf5"
      },
      "outputs": [],
      "source": [
        "test_east_grads, test_south_grads, test_ids, test_east_pcts, test_south_pcts = get_elevations(grid_cells_pd)"
      ]
    },
    {
      "cell_type": "code",
      "execution_count": null,
      "metadata": {
        "id": "J2CBwbqqsBH2"
      },
      "outputs": [],
      "source": [
        "test_elev_grads = pd.DataFrame({'cell_id': test_ids, \n",
        "                                 'east_elev_grad': test_east_grads, \n",
        "                                 'south_elev_grad': test_south_grads,\n",
        "                                 'east_elev_pct': test_east_pcts,\n",
        "                                 'south_elev_pct': test_south_pcts})"
      ]
    },
    {
      "cell_type": "code",
      "execution_count": null,
      "metadata": {
        "id": "d2btEA5Leg_j"
      },
      "outputs": [],
      "source": [
        "test_elev_grads.to_parquet('/content/drive/MyDrive/snocast/eval/data/static/test_elevation_grads.parquet')"
      ]
    },
    {
      "cell_type": "code",
      "execution_count": null,
      "metadata": {
        "id": "kIavnHPhG_lS"
      },
      "outputs": [],
      "source": [
        ""
      ]
    }
  ],
  "metadata": {
    "colab": {
      "background_execution": "on",
      "collapsed_sections": [],
      "machine_shape": "hm",
      "name": "get_elevation_gradient_eval.ipynb",
      "provenance": []
    },
    "kernelspec": {
      "display_name": "Python 3",
      "name": "python3"
    },
    "language_info": {
      "name": "python"
    }
  },
  "nbformat": 4,
  "nbformat_minor": 0
}