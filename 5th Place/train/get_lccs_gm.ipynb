{
  "nbformat": 4,
  "nbformat_minor": 0,
  "metadata": {
    "colab": {
      "name": "get_lccs_gm.ipynb",
      "provenance": [],
      "machine_shape": "hm",
      "background_execution": "on",
      "collapsed_sections": []
    },
    "kernelspec": {
      "name": "python3",
      "display_name": "Python 3"
    },
    "language_info": {
      "name": "python"
    }
  },
  "cells": [
    {
      "cell_type": "code",
      "source": [
        "!pip install boto3"
      ],
      "metadata": {
        "id": "WCfpyIKG_Ntc"
      },
      "execution_count": null,
      "outputs": []
    },
    {
      "cell_type": "code",
      "source": [
        "from google.colab import drive\n",
        "drive.mount('/content/drive')"
      ],
      "metadata": {
        "id": "nqOkTpVfCvi7"
      },
      "execution_count": null,
      "outputs": []
    },
    {
      "cell_type": "code",
      "execution_count": null,
      "metadata": {
        "id": "muqUwpX4_9o7"
      },
      "outputs": [],
      "source": [
        "import json\n",
        "import netCDF4\n",
        "import pandas as pd\n",
        "import numpy as np\n",
        "from collections import defaultdict"
      ]
    },
    {
      "cell_type": "code",
      "source": [
        "# File below downloaded in get_lccs_train_test.ipynb notebook\n",
        "fp='/content/drive/MyDrive/snocast/train/data/static/C3S-LC-L4-LCCS-Map-300m-P1Y-2020-v2.1.1.nc' # your file name with the eventual path\n",
        "nc = netCDF4.Dataset(fp) # reading the nc file and creating Dataset"
      ],
      "metadata": {
        "id": "99XBnoFlFMBQ"
      },
      "execution_count": null,
      "outputs": []
    },
    {
      "cell_type": "code",
      "source": [
        "# http://maps.elie.ucl.ac.be/CCI/viewer/download/ESACCI-LC-QuickUserGuide-LC-Maps_v2-0-7.pdf\n",
        "lccs_class = nc.variables['lccs_class']\n",
        "lccs_lat = np.array(nc.variables['lat'])\n",
        "lccs_lon = np.array(nc.variables['lon'])"
      ],
      "metadata": {
        "id": "Of9VYyarFRlQ"
      },
      "execution_count": null,
      "outputs": []
    },
    {
      "cell_type": "markdown",
      "source": [
        "### Import Base Data Files"
      ],
      "metadata": {
        "id": "bUIQBQ-UI_Z0"
      }
    },
    {
      "cell_type": "code",
      "source": [
        "ground_measures_metadata = pd.read_csv('/content/drive/MyDrive/snocast/train/data/static/ground_measures_metadata.csv')"
      ],
      "metadata": {
        "id": "mshiRZnECY4C"
      },
      "execution_count": null,
      "outputs": []
    },
    {
      "cell_type": "code",
      "source": [
        "all_max_lat = ground_measures_metadata.latitude.max()\n",
        "all_min_lat = ground_measures_metadata.latitude.min()\n",
        "all_max_lon = ground_measures_metadata.longitude.max()\n",
        "all_min_lon = ground_measures_metadata.longitude.min()\n",
        "print(all_min_lon, all_min_lat, all_max_lon, all_max_lat)"
      ],
      "metadata": {
        "id": "c2wsMdP4_16_"
      },
      "execution_count": null,
      "outputs": []
    },
    {
      "cell_type": "code",
      "source": [
        "# Figure out how to trim to only relevant lat lon\n",
        "lccs_lat_values = (lccs_lat < all_max_lat) & (lccs_lat > all_min_lat)\n",
        "lccs_lon_values = (lccs_lon < all_max_lon) & (lccs_lon > all_min_lon)\n",
        "\n",
        "reduced_lccs = np.squeeze(lccs_class[:, lccs_lat_values, lccs_lon_values])\n",
        "reduced_lat = lccs_lat[lccs_lat_values]\n",
        "reduced_lon = lccs_lon[lccs_lon_values]"
      ],
      "metadata": {
        "id": "utwaQ0zH_4UE"
      },
      "execution_count": null,
      "outputs": []
    },
    {
      "cell_type": "code",
      "source": [
        "lccs_arr = []\n",
        "\n",
        "for idx, row in ground_measures_metadata.iterrows():\n",
        "  if idx % 100 == 0:\n",
        "    print(idx)\n",
        "  lat, lon = row[['latitude','longitude']].values\n",
        "  # account for lat and lon resolution\n",
        "  max_lat = lat + 0.0014\n",
        "  min_lat = lat - 0.0014\n",
        "  max_lon = lon + 0.0014\n",
        "  min_lon = lon - 0.0014\n",
        "\n",
        "  lat_values = (reduced_lat < max_lat) & (reduced_lat > min_lat)\n",
        "  lon_values = (reduced_lon < max_lon) & (reduced_lon > min_lon)\n",
        "  mask = lon_values[np.newaxis, :] & lat_values[:, np.newaxis]\n",
        "\n",
        "  arr = reduced_lccs[mask]\n",
        "  lccs_cat, lccs_count = np.unique(arr, return_counts=True)\n",
        "  lccs_len = len(arr)\n",
        "\n",
        "  land_cover = {}\n",
        "  land_cover['station_id'] = row['station_id']\n",
        "  lccs_order = np.flip(np.argsort(lccs_count))\n",
        "  for i in range(3):\n",
        "    if i+1 <= len(lccs_order):\n",
        "      land_cover[f'lccs_{i}'] = lccs_cat[lccs_order[i]]\n",
        "      land_cover[f'lccs_pct_{i}'] = lccs_count[lccs_order[i]]/lccs_len\n",
        "    else:\n",
        "      land_cover[f'lccs_{i}'] = 0\n",
        "      land_cover[f'lccs_pct_{i}'] = np.nan\n",
        "  \n",
        "  lccs_arr.append(land_cover)"
      ],
      "metadata": {
        "id": "-2S0m1da1WXl"
      },
      "execution_count": null,
      "outputs": []
    },
    {
      "cell_type": "code",
      "source": [
        "print(idx)\n",
        "print(len(lccs_arr))"
      ],
      "metadata": {
        "id": "sTr6K_Nx4NWs"
      },
      "execution_count": null,
      "outputs": []
    },
    {
      "cell_type": "code",
      "source": [
        "lccs_df = pd.DataFrame(lccs_arr)"
      ],
      "metadata": {
        "id": "kzijmtX40Jjc"
      },
      "execution_count": null,
      "outputs": []
    },
    {
      "cell_type": "code",
      "source": [
        "lccs_df = lccs_df[['station_id','lccs_0']]"
      ],
      "metadata": {
        "id": "X9S3svmT0e9A"
      },
      "execution_count": null,
      "outputs": []
    },
    {
      "cell_type": "code",
      "source": [
        "lccs_df.groupby('lccs_0').count()"
      ],
      "metadata": {
        "id": "Qm2eqDGy3PIE"
      },
      "execution_count": null,
      "outputs": []
    },
    {
      "cell_type": "code",
      "source": [
        "lccs_df.to_parquet('/content/drive/MyDrive/snocast/train/data/static/gm_lccs.parquet')"
      ],
      "metadata": {
        "id": "4GdT3xQ-4qDG"
      },
      "execution_count": null,
      "outputs": []
    },
    {
      "cell_type": "code",
      "source": [
        ""
      ],
      "metadata": {
        "id": "idYBl1Al3wjH"
      },
      "execution_count": null,
      "outputs": []
    }
  ]
}