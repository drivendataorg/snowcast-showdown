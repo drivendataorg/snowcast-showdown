{
 "cells": [
  {
   "cell_type": "code",
   "execution_count": 1,
   "metadata": {},
   "outputs": [],
   "source": [
    "import pandas as pd\n",
    "import numpy as np\n",
    "import pickle\n",
    "from sklearn.model_selection import KFold\n",
    "from sklearn.metrics import mean_squared_error\n",
    "from sklearn.ensemble import RandomForestRegressor\n",
    "from sklearn.model_selection import cross_val_score\n",
    "from lightgbm import LGBMRegressor\n",
    "from catboost import CatBoostRegressor\n",
    "from xgboost import XGBRegressor"
   ]
  },
  {
   "cell_type": "code",
   "execution_count": 2,
   "metadata": {},
   "outputs": [],
   "source": [
    "data_path='data/input/'"
   ]
  },
  {
   "cell_type": "code",
   "execution_count": 3,
   "metadata": {},
   "outputs": [],
   "source": [
    "train_df=pd.read_csv('data/raw/dataset_train.csv', sep=',')\n",
    "test_df=pd.read_csv('data/raw/dataset_test.csv', sep=',')"
   ]
  },
  {
   "cell_type": "markdown",
   "metadata": {},
   "source": [
    "### Interpolate"
   ]
  },
  {
   "cell_type": "code",
   "execution_count": 4,
   "metadata": {},
   "outputs": [],
   "source": [
    "org_train=pd.read_csv(data_path+'ground_measures_train_features.csv', index_col='Unnamed: 0')\n",
    "org_test=pd.read_csv(data_path+'ground_measures_test_features.csv', index_col='Unnamed: 0')\n",
    "org_new=pd.read_csv(data_path+'ground_measures_features.csv', index_col='Unnamed: 0')\n",
    "gm_metadata=pd.read_csv(data_path+'ground_measures_metadata.csv', index_col='station_id')"
   ]
  },
  {
   "cell_type": "code",
   "execution_count": 5,
   "metadata": {},
   "outputs": [],
   "source": [
    "org_train_df=org_train.unstack().reset_index()\n",
    "org_test_df=org_test.unstack().reset_index()\n",
    "org_new_df=org_new.unstack().reset_index()\n",
    "org_train_df.columns=['date', 'id', 'org_value']\n",
    "org_test_df.columns=['date', 'id', 'org_value']\n",
    "org_new_df.columns=['date', 'id', 'org_value']"
   ]
  },
  {
   "cell_type": "code",
   "execution_count": 6,
   "metadata": {},
   "outputs": [],
   "source": [
    "org=pd.concat([org_train_df, org_test_df], axis=0).merge(gm_metadata, how='left', left_on='id', right_on='station_id').reset_index(drop=True)"
   ]
  },
  {
   "cell_type": "code",
   "execution_count": 7,
   "metadata": {},
   "outputs": [],
   "source": [
    "org['dt_date'] = pd.to_datetime(org['date'], format='%Y-%m-%d')"
   ]
  },
  {
   "cell_type": "code",
   "execution_count": 8,
   "metadata": {},
   "outputs": [],
   "source": [
    "org['dayofyear'] = org['dt_date'].dt.dayofyear"
   ]
  },
  {
   "cell_type": "code",
   "execution_count": 9,
   "metadata": {},
   "outputs": [],
   "source": [
    "org['year'] = org['dt_date'].dt.year"
   ]
  },
  {
   "cell_type": "code",
   "execution_count": 10,
   "metadata": {},
   "outputs": [],
   "source": [
    "org_new_df2=org_new_df.merge(gm_metadata, how='left', left_on='id', right_on='station_id')"
   ]
  },
  {
   "cell_type": "code",
   "execution_count": 11,
   "metadata": {},
   "outputs": [],
   "source": [
    "org_new_df2['dt_date'] = pd.to_datetime(org_new_df2['date'], format='%Y-%m-%d')\n",
    "org_new_df2['dayofyear'] = org_new_df2['dt_date'].dt.dayofyear\n",
    "org_new_df2['year'] = org_new_df2['dt_date'].dt.year"
   ]
  },
  {
   "cell_type": "code",
   "execution_count": 12,
   "metadata": {},
   "outputs": [],
   "source": [
    "org_new_df2=org_new_df2[['latitude','longitude', 'elevation_m', 'year', 'dayofyear']]"
   ]
  },
  {
   "cell_type": "code",
   "execution_count": 13,
   "metadata": {},
   "outputs": [],
   "source": [
    "org_new_df3=train_df[['lat','lon','alt','year','dayofyear']]\n",
    "org_new_df3.columns=['latitude','longitude', 'elevation_m', 'year', 'dayofyear']\n",
    "org_new_df5=test_df[['lat','lon','alt','year','dayofyear']]\n",
    "org_new_df5.columns=['latitude','longitude', 'elevation_m', 'year', 'dayofyear']"
   ]
  },
  {
   "cell_type": "code",
   "execution_count": 14,
   "metadata": {},
   "outputs": [],
   "source": [
    "org_new_df4=pd.concat([org_new_df3,org_new_df2,org_new_df5]).reset_index(drop=True)"
   ]
  },
  {
   "cell_type": "code",
   "execution_count": 15,
   "metadata": {},
   "outputs": [],
   "source": [
    "X_org=org[['latitude','longitude', 'elevation_m', 'year', 'dayofyear']]\n",
    "y_org=org['org_value']\n",
    "y_org.fillna(0, inplace=True)\n",
    "Z_org=org_new_df4"
   ]
  },
  {
   "cell_type": "code",
   "execution_count": 16,
   "metadata": {},
   "outputs": [],
   "source": [
    "rf=RandomForestRegressor(n_estimators=250, random_state=0, n_jobs=-1)"
   ]
  },
  {
   "cell_type": "code",
   "execution_count": 17,
   "metadata": {},
   "outputs": [
    {
     "name": "stdout",
     "output_type": "stream",
     "text": [
      "Wall time: 4.84 s\n"
     ]
    },
    {
     "data": {
      "text/plain": [
       "RandomForestRegressor(n_estimators=250, n_jobs=-1, random_state=0)"
      ]
     },
     "execution_count": 17,
     "metadata": {},
     "output_type": "execute_result"
    }
   ],
   "source": [
    "%%time\n",
    "rf.fit(X_org,y_org)"
   ]
  },
  {
   "cell_type": "code",
   "execution_count": 18,
   "metadata": {},
   "outputs": [],
   "source": [
    "rf_int=pd.DataFrame(rf.predict(Z_org))\n",
    "rf_int.columns=['rf_org_value_v2']"
   ]
  },
  {
   "cell_type": "code",
   "execution_count": 19,
   "metadata": {},
   "outputs": [],
   "source": [
    "rf_int_res=pd.concat([Z_org, rf_int],axis=1)\n",
    "rf_int_res.columns=['lat','lon','alt','year','dayofyear','rf_org_value_v2']"
   ]
  },
  {
   "cell_type": "code",
   "execution_count": 20,
   "metadata": {},
   "outputs": [],
   "source": [
    "rf_int2=rf_int_res.drop(['alt', 'year'],axis=1).groupby(by=['lat', 'lon', 'dayofyear']).mean('rf_org_value_v2').reset_index()"
   ]
  },
  {
   "cell_type": "code",
   "execution_count": 21,
   "metadata": {},
   "outputs": [],
   "source": [
    "train_df=train_df.merge(rf_int2, how='left', left_on=['lat', 'lon', 'dayofyear'], right_on=['lat','lon', 'dayofyear'])\n",
    "test_df=test_df.merge(rf_int2, how='left', left_on=['lat', 'lon', 'dayofyear'], right_on=['lat','lon', 'dayofyear'])"
   ]
  },
  {
   "cell_type": "code",
   "execution_count": 22,
   "metadata": {},
   "outputs": [],
   "source": [
    "train_df.drop(['year'],axis=1, inplace=True)\n",
    "test_df.drop(['year'],axis=1, inplace=True)"
   ]
  },
  {
   "cell_type": "markdown",
   "metadata": {},
   "source": [
    "### Final data"
   ]
  },
  {
   "cell_type": "code",
   "execution_count": 23,
   "metadata": {},
   "outputs": [],
   "source": [
    "X=train_df.drop(['cell_id','valid_time','swe'],axis=1)\n",
    "y=train_df['swe']\n",
    "Z=test_df.drop(['cell_id','valid_time'],axis=1)"
   ]
  },
  {
   "cell_type": "markdown",
   "metadata": {},
   "source": [
    "### Zoo models"
   ]
  },
  {
   "cell_type": "code",
   "execution_count": 24,
   "metadata": {},
   "outputs": [],
   "source": [
    "#cv=4.39\n",
    "xgb_1=XGBRegressor(n_estimators=2500, learning_rate=0.05, max_depth=7, \n",
    "                  reg_alpha=0.1, reg_lambda=1.5, subsample=0.8, random_state=0, n_jobs=-1)"
   ]
  },
  {
   "cell_type": "code",
   "execution_count": 25,
   "metadata": {},
   "outputs": [],
   "source": [
    "#cv=4.33\n",
    "ctb_1=CatBoostRegressor(depth=8, iterations=2000, learning_rate=0.1, logging_level='Silent', random_seed=155)"
   ]
  },
  {
   "cell_type": "code",
   "execution_count": 26,
   "metadata": {},
   "outputs": [],
   "source": [
    "#cv=4.22\n",
    "lgb_1=LGBMRegressor(n_estimators=2500, num_leaves=64, metric='rmse', random_state=0)"
   ]
  },
  {
   "cell_type": "markdown",
   "metadata": {},
   "source": [
    "### Stack"
   ]
  },
  {
   "cell_type": "code",
   "execution_count": 27,
   "metadata": {},
   "outputs": [],
   "source": [
    "nf=5\n",
    "cv=KFold(n_splits=nf, shuffle=True, random_state=18)"
   ]
  },
  {
   "cell_type": "code",
   "execution_count": 28,
   "metadata": {},
   "outputs": [],
   "source": [
    "zoo_names=['xgb_1', 'lgb_1', 'ctb_1']\n",
    "zoo=[xgb_1, lgb_1, ctb_1]"
   ]
  },
  {
   "cell_type": "code",
   "execution_count": 29,
   "metadata": {},
   "outputs": [],
   "source": [
    "pd.options.mode.chained_assignment = None  # default='warn'"
   ]
  },
  {
   "cell_type": "code",
   "execution_count": 30,
   "metadata": {},
   "outputs": [
    {
     "name": "stdout",
     "output_type": "stream",
     "text": [
      "xgb_1 || 3.7526374867169396\n",
      "lgb_1 || 3.6514706097455987\n",
      "ctb_1 || 3.7841241869845206\n",
      "Wall time: 23min 39s\n"
     ]
    }
   ],
   "source": [
    "%%time\n",
    "fold=0\n",
    "i=0\n",
    "name=0\n",
    "res=np.zeros(nf)\n",
    "meta_f=pd.DataFrame(columns=zoo_names, index=X.index).fillna(value=0)\n",
    "\n",
    "for model in zoo:\n",
    "    i=0  \n",
    "    for train, test in cv.split(X,y):\n",
    "        model.fit(X.loc[train],y.loc[train])\n",
    "        meta_f[zoo_names[name]].loc[test]=model.predict(X.loc[test])\n",
    "        res[i]=np.sqrt(mean_squared_error(y.loc[test], model.predict(X.loc[test])))\n",
    "        i+=1\n",
    "    \n",
    "    print (zoo_names[name],'||',np.mean(res))\n",
    "    name+=1"
   ]
  },
  {
   "cell_type": "code",
   "execution_count": 31,
   "metadata": {},
   "outputs": [],
   "source": [
    "for i in meta_f.columns:\n",
    "    meta_f[meta_f[i]<0]=0"
   ]
  },
  {
   "cell_type": "code",
   "execution_count": 32,
   "metadata": {},
   "outputs": [],
   "source": [
    "clf_meta=XGBRegressor(learning_rate=0.01, max_depth=4, n_estimators=500)"
   ]
  },
  {
   "cell_type": "code",
   "execution_count": 33,
   "metadata": {},
   "outputs": [
    {
     "name": "stdout",
     "output_type": "stream",
     "text": [
      "Wall time: 12.9 s\n"
     ]
    }
   ],
   "source": [
    "%%time\n",
    "cv_result=cross_val_score(clf_meta, meta_f, y, n_jobs=-1, cv=cv, scoring='neg_mean_squared_error')"
   ]
  },
  {
   "cell_type": "code",
   "execution_count": 34,
   "metadata": {},
   "outputs": [
    {
     "name": "stdout",
     "output_type": "stream",
     "text": [
      "[-12.03362821 -12.34396492 -11.75727126 -12.46829675 -12.4932873 ] || 3.4953739417774683\n"
     ]
    }
   ],
   "source": [
    "print(cv_result, '||',np.mean(np.sqrt(-cv_result)))"
   ]
  },
  {
   "cell_type": "code",
   "execution_count": 35,
   "metadata": {},
   "outputs": [
    {
     "data": {
      "text/plain": [
       "XGBRegressor(base_score=0.5, booster='gbtree', colsample_bylevel=1,\n",
       "             colsample_bynode=1, colsample_bytree=1, enable_categorical=False,\n",
       "             gamma=0, gpu_id=-1, importance_type=None,\n",
       "             interaction_constraints='', learning_rate=0.01, max_delta_step=0,\n",
       "             max_depth=4, min_child_weight=1, missing=nan,\n",
       "             monotone_constraints='()', n_estimators=500, n_jobs=32,\n",
       "             num_parallel_tree=1, predictor='auto', random_state=0, reg_alpha=0,\n",
       "             reg_lambda=1, scale_pos_weight=1, subsample=1, tree_method='exact',\n",
       "             validate_parameters=1, verbosity=None)"
      ]
     },
     "execution_count": 35,
     "metadata": {},
     "output_type": "execute_result"
    }
   ],
   "source": [
    "clf_meta.fit(meta_f, y)"
   ]
  },
  {
   "cell_type": "code",
   "execution_count": 36,
   "metadata": {},
   "outputs": [
    {
     "name": "stdout",
     "output_type": "stream",
     "text": [
      "Wall time: 5min 40s\n"
     ]
    }
   ],
   "source": [
    "%%time\n",
    "name=0\n",
    "Z_meta_f=pd.DataFrame(columns=zoo_names, index=Z.index).fillna(value=0)\n",
    "\n",
    "for model in zoo: \n",
    "    model.fit(X,y)\n",
    "    Z_meta_f[zoo_names[name]]=model.predict(Z)\n",
    "    name+=1\n",
    "    \n",
    "    "
   ]
  },
  {
   "cell_type": "code",
   "execution_count": 37,
   "metadata": {},
   "outputs": [],
   "source": [
    "for i in Z_meta_f.columns:\n",
    "    Z_meta_f[Z_meta_f[i]<0]=0"
   ]
  },
  {
   "cell_type": "code",
   "execution_count": 38,
   "metadata": {},
   "outputs": [],
   "source": [
    "res=pd.DataFrame(clf_meta.predict(Z_meta_f))\n",
    "res.columns=['swe_pred']"
   ]
  },
  {
   "cell_type": "code",
   "execution_count": 39,
   "metadata": {},
   "outputs": [],
   "source": [
    "res[res['swe_pred']<0]=0"
   ]
  },
  {
   "cell_type": "code",
   "execution_count": 40,
   "metadata": {},
   "outputs": [],
   "source": [
    "res_pivot=pd.concat([test_df[['cell_id', 'valid_time']], res],axis=1).pivot(index='cell_id', \n",
    "                                                                  columns='valid_time', values='swe_pred')"
   ]
  },
  {
   "cell_type": "code",
   "execution_count": 41,
   "metadata": {},
   "outputs": [],
   "source": [
    "res_pivot.to_csv('sub.csv', index=True)"
   ]
  },
  {
   "cell_type": "code",
   "execution_count": 42,
   "metadata": {},
   "outputs": [],
   "source": [
    "dmp_models=[rf, xgb_1, lgb_1, ctb_1, clf_meta]"
   ]
  },
  {
   "cell_type": "code",
   "execution_count": 43,
   "metadata": {},
   "outputs": [],
   "source": [
    "with open('models/'+'models_final.pkl', 'wb') as f:\n",
    "    for mdl in dmp_models:\n",
    "         pickle.dump(mdl, f)"
   ]
  },
  {
   "cell_type": "code",
   "execution_count": 44,
   "metadata": {},
   "outputs": [],
   "source": [
    "# models_readed = []\n",
    "# with open('models/'+'models_final.pkl', 'rb') as f:\n",
    "#     while True:\n",
    "#         try:\n",
    "#             models_readed.append(pickle.load(f))\n",
    "#         except EOFError:\n",
    "#             break"
   ]
  }
 ],
 "metadata": {
  "anaconda-cloud": {},
  "kernelspec": {
   "display_name": "Python 3 (ipykernel)",
   "language": "python",
   "name": "python3"
  },
  "language_info": {
   "codemirror_mode": {
    "name": "ipython",
    "version": 3
   },
   "file_extension": ".py",
   "mimetype": "text/x-python",
   "name": "python",
   "nbconvert_exporter": "python",
   "pygments_lexer": "ipython3",
   "version": "3.9.5"
  }
 },
 "nbformat": 4,
 "nbformat_minor": 4
}
