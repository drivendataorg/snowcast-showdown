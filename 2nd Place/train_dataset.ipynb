{
 "cells": [
  {
   "cell_type": "code",
   "execution_count": null,
   "id": "49eed7bb-a5d5-425a-9eff-dbd913e03e5e",
   "metadata": {},
   "outputs": [],
   "source": [
    "# This notebook runs 27 hours (download data and collect train dataset)"
   ]
  },
  {
   "cell_type": "code",
   "execution_count": null,
   "id": "25c6cdf6",
   "metadata": {},
   "outputs": [],
   "source": [
    "import warnings\n",
    "warnings.filterwarnings('ignore')\n",
    "import pandas as pd\n",
    "import geopandas as gpd\n",
    "from tqdm.auto import tqdm\n",
    "\n",
    "import os\n",
    "from src.data import hrrr_week_download\n",
    "from src.features import hrrr_week_features, hrrr_winter_features\n",
    "\n",
    "from datetime import datetime\n",
    "from datetime import timedelta\n",
    "from pathlib import Path"
   ]
  },
  {
   "cell_type": "code",
   "execution_count": null,
   "id": "7d6bd979",
   "metadata": {},
   "outputs": [],
   "source": [
    "PATH_HRRR_DATA = 'data_train/external/hhhr_data/'\n",
    "PATH_WEEK_FEATURES = 'data_train/processed/hrrr_week_feastures/'\n",
    "PATH_WINTER_FEATURES = 'data_train/processed/hrrr_winter_feastures/'\n",
    "PATH_TIMESERIES = 'data_train/processed/hrrr_timeserias/'\n",
    "PATH_GRID = 'data/input/grid_cells.geojson'\n",
    "PATH_GRID2 = 'data/input/grid_cell_stage2.geojson'\n",
    "PATH_MODIS = 'data_train/external/modis/'\n",
    "PATH_MODIS_FEATURES = 'data_train/processed/modis_features/'"
   ]
  },
  {
   "cell_type": "code",
   "execution_count": null,
   "id": "f24e77a2",
   "metadata": {},
   "outputs": [],
   "source": [
    "grid_cells = gpd.read_file(Path(PATH_GRID))"
   ]
  },
  {
   "cell_type": "code",
   "execution_count": null,
   "id": "dd821884",
   "metadata": {},
   "outputs": [],
   "source": [
    "#dates for train and test\n",
    "train_labels = pd.read_csv('data/input/train_labels.csv')\n",
    "submission = pd.read_csv('data/input/submission_format.csv')\n",
    "train_features = pd.read_csv('data/input/ground_measures_train_features.csv')\n",
    "test_features = pd.read_csv('data/input/ground_measures_test_features.csv')\n",
    "\n",
    "aaa = list(train_labels)[63:] + list(submission)[1:] + list(test_features)[1:] + list(train_features)[57:]\n",
    "dates = sorted(list(set(aaa)))"
   ]
  },
  {
   "cell_type": "code",
   "execution_count": null,
   "id": "01a776ba",
   "metadata": {},
   "outputs": [],
   "source": [
    "#hrrr data download\n",
    "hrrr_week_download.download_data(dates, output_path=PATH_HRRR_DATA)"
   ]
  },
  {
   "cell_type": "code",
   "execution_count": null,
   "id": "7a5a888f",
   "metadata": {},
   "outputs": [],
   "source": [
    "#hrrr weekly features\n",
    "for date in tqdm(dates, desc='timestamp'):\n",
    "    if pd.to_datetime(date) < datetime.now():\n",
    "        hrrr_week_features.features_for_timestamp(folder= str(Path(os.path.join(PATH_HRRR_DATA, date))),\n",
    "                                                  grid_cells=grid_cells,\n",
    "                                                  features_save_path=str(Path(PATH_WEEK_FEATURES)),\n",
    "                                                  save_path = str(Path(PATH_TIMESERIES))\n",
    "                                                 )"
   ]
  },
  {
   "cell_type": "code",
   "execution_count": null,
   "id": "0c4f5d9e",
   "metadata": {},
   "outputs": [],
   "source": [
    "#hrrr winter features        \n",
    "hrrr_winter_features.winter_features(path_timeseries= PATH_TIMESERIES, \n",
    "                                     features_save_path=PATH_WINTER_FEATURES, \n",
    "                                     last_year=False)"
   ]
  },
  {
   "cell_type": "code",
   "execution_count": null,
   "id": "51dc8a65",
   "metadata": {},
   "outputs": [],
   "source": [
    "# MODIS data download\n",
    "from src.data import modis_downloader\n",
    "from src.features import modis_features\n",
    "\n",
    "years = set([d[:4] for d in dates])\n",
    "\n",
    "for year in years:\n",
    "    directory = PATH_MODIS_FEATURES + 'fol' + year\n",
    "    if not os.path.exists(directory): os.makedirs(directory) \n",
    "    directory = PATH_MODIS + 'fol' + year\n",
    "    if not os.path.exists(directory): os.makedirs(directory) \n",
    "\n",
    "modis_downloader.download(PATH_MODIS, how='everything')"
   ]
  },
  {
   "cell_type": "code",
   "execution_count": null,
   "id": "30f9b963",
   "metadata": {},
   "outputs": [],
   "source": [
    "# MODIS features\n",
    "for year in os.listdir(PATH_MODIS):\n",
    "    path = os.path.join(PATH_MODIS, year)\n",
    "    modis_features.modis_features(path, grid_cells, all_files=True,\n",
    "                   last_files=0, output_path=PATH_MODIS_FEATURES)"
   ]
  },
  {
   "cell_type": "markdown",
   "id": "b6183352-a2f7-42a3-a35f-42a8c06b48f5",
   "metadata": {},
   "source": [
    "train dataset"
   ]
  },
  {
   "cell_type": "code",
   "execution_count": null,
   "id": "97dd6c98",
   "metadata": {},
   "outputs": [],
   "source": [
    "sub1 = pd.read_csv('data/input/labels_2020_2021.csv')\n",
    "sub1 = sub1.melt('cell_id')\n",
    "sub1.columns = ['cell_id', 'valid_time', 'swe']\n",
    "\n",
    "sub2 = pd.read_csv('data/input/train_labels.csv')\n",
    "sub2 = sub.melt('cell_id')\n",
    "sub2.columns = ['cell_id', 'valid_time', 'swe']\n",
    "\n",
    "sub = pd.concat([sub2, sub1])\n",
    "sub = sub[~sub['swe'].isna()]\n",
    "sub = sub[sub['valid_time'].isin(dates)]"
   ]
  },
  {
   "cell_type": "code",
   "execution_count": null,
   "id": "bdebb76d",
   "metadata": {},
   "outputs": [],
   "source": [
    "# modis\n",
    "paths_modis = list(Path(PATH_MODIS_FEATURES).rglob('*.csv'))\n",
    "df_modis = [pd.read_csv(p) for p in paths_modis]\n",
    "df_modis = pd.concat(df_modis)"
   ]
  },
  {
   "cell_type": "code",
   "execution_count": null,
   "id": "60a77d57",
   "metadata": {},
   "outputs": [],
   "source": [
    "# weekly features\n",
    "paths_week_f = list(Path(PATH_WEEK_FEATURES).rglob('*.csv'))\n",
    "df_week = [pd.read_csv(p) for p in paths_week_f]\n",
    "df_week = pd.concat(df_week)"
   ]
  },
  {
   "cell_type": "code",
   "execution_count": null,
   "id": "37a8ff00",
   "metadata": {},
   "outputs": [],
   "source": [
    "# winter features\n",
    "paths_winter_f = list(Path(PATH_WINTER_FEATURES).rglob('*.csv'))\n",
    "df_winter = [pd.read_csv(p) for p in paths_winter_f]\n",
    "df_winter = pd.concat(df_winter)"
   ]
  },
  {
   "cell_type": "code",
   "execution_count": null,
   "id": "ba04e6a0",
   "metadata": {},
   "outputs": [],
   "source": [
    "# grid features\n",
    "df_dem = pd.read_csv('data/raw/dem_features.csv')\n",
    "\n",
    "df_grid = grid_cells.copy()\n",
    "df_grid = gpd.GeoDataFrame(df_grid, geometry=df_grid.centroid)\n",
    "df_grid['lon'] = df_grid.geometry.x\n",
    "df_grid['lat'] = df_grid.geometry.y\n",
    "df_grid = df_grid[['cell_id', 'lon', 'lat']]"
   ]
  },
  {
   "cell_type": "code",
   "execution_count": null,
   "id": "8652dd6c",
   "metadata": {},
   "outputs": [],
   "source": [
    "df = sub.copy()\n",
    "\n",
    "df = df.merge(df_week, on=['cell_id', 'valid_time'], how='left')\n",
    "df = df.merge(df_winter, on=['cell_id', 'valid_time'], how='left')\n",
    "df = df.merge(df_modis, on=['cell_id', 'valid_time'], how='left')\n",
    "df = df.merge(df_dem, on=['cell_id'], how='left')\n",
    "df = df.merge(df_grid, on=['cell_id'], how='left')\n",
    "\n",
    "df['dt_date'] = pd.to_datetime(df['valid_time'], format='%Y-%m-%d')\n",
    "df['dayofyear'] = df['dt_date'].dt.dayofyear\n",
    "df['year'] = df['dt_date'].dt.year\n",
    "df = df.drop(['dt_date'], axis=1)"
   ]
  },
  {
   "cell_type": "code",
   "execution_count": null,
   "id": "a3ec5b16",
   "metadata": {},
   "outputs": [],
   "source": [
    "# uncommet to rewrite train dataset\n",
    "# df.to_csv('data/raw/train_dataset.csv', index=False)"
   ]
  }
 ],
 "metadata": {
  "kernelspec": {
   "display_name": "Python 3 (ipykernel)",
   "language": "python",
   "name": "python3"
  },
  "language_info": {
   "codemirror_mode": {
    "name": "ipython",
    "version": 3
   },
   "file_extension": ".py",
   "mimetype": "text/x-python",
   "name": "python",
   "nbconvert_exporter": "python",
   "pygments_lexer": "ipython3",
   "version": "3.9.5"
  }
 },
 "nbformat": 4,
 "nbformat_minor": 5
}
