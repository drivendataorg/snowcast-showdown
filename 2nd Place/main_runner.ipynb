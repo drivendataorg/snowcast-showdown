{
 "cells": [
  {
   "cell_type": "markdown",
   "id": "c565a33a-52a9-45d1-8e30-834fe97ba151",
   "metadata": {
    "tags": []
   },
   "source": [
    "# Imports"
   ]
  },
  {
   "cell_type": "code",
   "execution_count": null,
   "id": "a7a44396-eec5-4de0-9126-e90597dac483",
   "metadata": {},
   "outputs": [],
   "source": [
    "import warnings\n",
    "warnings.filterwarnings('ignore')\n",
    "\n",
    "import os\n",
    "import pickle\n",
    "import pandas as pd\n",
    "import geopandas as gpd\n",
    "\n",
    "from pathlib import Path\n",
    "from tqdm.auto import tqdm\n",
    "from datetime import datetime\n",
    "from datetime import timedelta\n",
    "\n",
    "from src.data import hrrr_week_download, modis_downloader\n",
    "from src.features import hrrr_week_features, hrrr_winter_features, modis_features"
   ]
  },
  {
   "cell_type": "markdown",
   "id": "77239a8e-24c4-41f2-b719-fa1fb1bae843",
   "metadata": {},
   "source": [
    "# Config"
   ]
  },
  {
   "cell_type": "code",
   "execution_count": null,
   "id": "b58ea4f0-47a9-4389-a1b3-e20e96cc9cce",
   "metadata": {},
   "outputs": [],
   "source": [
    "dates = [\n",
    "    '2021-12-02', \n",
    "    '2021-12-09',\n",
    "    '2021-12-16', \n",
    "    '2021-12-23', \n",
    "    '2021-12-30', \n",
    "    '2022-01-06',\n",
    "    '2022-01-13', \n",
    "    '2022-01-20', \n",
    "    '2022-01-27', \n",
    "    '2022-02-03',\n",
    "    '2022-02-10', \n",
    "    '2022-02-17', \n",
    "    '2022-02-24', \n",
    "    '2022-03-03', \n",
    "    '2022-03-10', \n",
    "    '2022-03-17', \n",
    "    '2022-03-24', \n",
    "    '2022-03-31',\n",
    "    '2022-04-07', \n",
    "    '2022-04-14', \n",
    "    '2022-04-21', \n",
    "    '2022-04-28',\n",
    "    '2022-05-05', \n",
    "    '2022-05-12', \n",
    "    '2022-05-19',\n",
    "    '2022-05-26',\n",
    "    '2022-06-02', \n",
    "    '2022-06-09', \n",
    "    '2022-06-16', \n",
    "    '2022-06-23',\n",
    "    '2022-06-30',\n",
    "]\n"
   ]
  },
  {
   "cell_type": "code",
   "execution_count": null,
   "id": "3ecb5824-087a-4a9e-9c3b-3702e5c07e32",
   "metadata": {},
   "outputs": [],
   "source": [
    "PATH_HRRR_DATA = 'data/external/hhhr_data/'\n",
    "PATH_WEEK_FEATURES = 'data/processed/hrrr_week_feastures/'\n",
    "PATH_WINTER_FEATURES = 'data/processed/hrrr_winter_feastures/'\n",
    "PATH_TIMESERIES = 'data/processed/hrrr_timeserias/'\n",
    "PATH_GRID = 'data/input/grid_cells.geojson'\n",
    "PATH_GRID2 = 'data/input/grid_cell_stage2.geojson'\n",
    "PATH_MODIS = 'data/external/modis/'\n",
    "PATH_MODIS_FEATURES = 'data/processed/modis_features/'"
   ]
  },
  {
   "cell_type": "code",
   "execution_count": null,
   "id": "7772bf22-2097-41b6-bb1d-1d30b6ee61a4",
   "metadata": {},
   "outputs": [],
   "source": [
    "# feature columns\n",
    "cols = ['cell_id','valid_time','temp_mean','temp_sum','temp_sum_cold',\n",
    "        'temp_sum_warm','temp_sum_cold_hours','temp_sum_warm_hours',\n",
    "        'tp_mean','tp_sum','tp_sum_liquid','tp_sum_solid','rain_enrg',\n",
    "        'thaw_count','dswrf_mean','dswrf_sum','si10_mean','si10_sum',\n",
    "        'sdwe_mean','sdwe_sum','sdwe_range','sdwe_last','sdwe_first',\n",
    "        'si10','dswrf','t2m','tp','tp_pls','tp_mns','t2m_pls','t2m_mns',\n",
    "        'rain_nrg','si10_cumsum','si10_mean_sws','dswrf_cumsum','dswrf_mean_sws',\n",
    "        't2m_cumsum','t2m_mean_sws','tp_cumsum','tp_mean_sws','tp_pls_cumsum',\n",
    "        'tp_pls_mean_sws','tp_mns_cumsum','tp_mns_mean_sws','t2m_pls_cumsum',\n",
    "        't2m_pls_mean_sws','t2m_mns_cumsum','t2m_mns_mean_sws','rain_nrg_cumsum',\n",
    "        'rain_nrg_mean_sws','si10_m7','dswrf_m7','t2m_m7','tp_m7','tp_pls_m7',\n",
    "        'tp_mns_m7','t2m_pls_m7','t2m_mns_m7','rain_nrg_m7','si10_cumsum_m7',\n",
    "        'si10_mean_sws_m7','dswrf_cumsum_m7','dswrf_mean_sws_m7','t2m_cumsum_m7',\n",
    "        't2m_mean_sws_m7','tp_cumsum_m7','tp_mean_sws_m7','tp_pls_cumsum_m7',\n",
    "        'tp_pls_mean_sws_m7','tp_mns_cumsum_m7','tp_mns_mean_sws_m7','t2m_pls_cumsum_m7',\n",
    "        't2m_pls_mean_sws_m7','t2m_mns_cumsum_m7','t2m_mns_mean_sws_m7','rain_nrg_cumsum_m7',\n",
    "        'rain_nrg_mean_sws_m7','sc','ndsi1','sa1','lon','lat','alt','alt_min_200',\n",
    "        'alt_max_200','alt_mean_200','slope','slope_mean_200','slope_median_200',\n",
    "        'aspect','aspect_mean_200','aspect_median_200','curv_prof','curv_prof_mean_200',\n",
    "        'curv_prof_median_200','curv','curv_mean_200','curv_median_200','curv_plan',\n",
    "        'curv_plan_mean_200','curv_plan_median_200','tri','tri_mean_200','tri_median_200',\n",
    "        'alt_min_500','alt_max_500','alt_mean_500','alt_median_500','slope_mean_500',\n",
    "        'slope_median_500','aspect_mean_500','aspect_median_500','curv_prof_mean_500',\n",
    "        'curv_prof_median_500','curv_plan_mean_500','curv_plan_median_500','curv_mean_500',\n",
    "        'curv_median_500','tri_mean_500','tri_median_500','dayofyear','year']"
   ]
  },
  {
   "cell_type": "code",
   "execution_count": null,
   "id": "7ea5d5ce-19e1-4f45-80ab-94acbec486b4",
   "metadata": {},
   "outputs": [],
   "source": [
    "grid_cells = gpd.read_file(Path(PATH_GRID2))"
   ]
  },
  {
   "cell_type": "markdown",
   "id": "b97236ed-08c7-498d-8468-5db62fd8b972",
   "metadata": {
    "tags": []
   },
   "source": [
    "# Data Processing\n",
    "## Download Data\n",
    "### Download Weekly Data (HRRR)"
   ]
  },
  {
   "cell_type": "code",
   "execution_count": null,
   "id": "d9ab70a7-b049-4b80-827e-937295a936d7",
   "metadata": {
    "tags": []
   },
   "outputs": [],
   "source": [
    "%%time\n",
    "# download meteo data (HRRR)\n",
    "hrrr_week_download.download_data(dates , output_path='data/external/hhhr_data/')"
   ]
  },
  {
   "cell_type": "markdown",
   "id": "c47e4e77-b054-4bdc-8ac3-f8655468a9ec",
   "metadata": {
    "tags": []
   },
   "source": [
    "### MODIS download"
   ]
  },
  {
   "cell_type": "code",
   "execution_count": null,
   "id": "322488c3-d815-4731-81f4-c694d7ff32de",
   "metadata": {
    "tags": []
   },
   "outputs": [],
   "source": [
    "%%time\n",
    "modis_downloader.download(PATH_MODIS, how='new')"
   ]
  },
  {
   "cell_type": "markdown",
   "id": "9f648c3e-0540-4684-b683-9058d5013657",
   "metadata": {},
   "source": [
    "## Feature engineering\n",
    "### Weekly HRRR Features"
   ]
  },
  {
   "cell_type": "code",
   "execution_count": null,
   "id": "8f9de38e-640a-45e6-8247-82a036eadfcf",
   "metadata": {
    "tags": []
   },
   "outputs": [],
   "source": [
    "%%time\n",
    "for date in tqdm(dates, desc='timestamp'):\n",
    "    if pd.to_datetime(date) < datetime.now():\n",
    "        hrrr_week_features.features_for_timestamp(folder= str(Path(os.path.join(PATH_HRRR_DATA, date))),\n",
    "                                                  grid_cells=grid_cells,\n",
    "                                                  features_save_path=str(Path(PATH_WEEK_FEATURES)),\n",
    "                                                  save_path = str(Path(PATH_TIMESERIES))\n",
    "                                                 )\n",
    "\n"
   ]
  },
  {
   "cell_type": "markdown",
   "id": "99ee9331-df65-47a6-8832-8fda53412a78",
   "metadata": {},
   "source": [
    "### Winter HRRR Features"
   ]
  },
  {
   "cell_type": "code",
   "execution_count": null,
   "id": "4a6f9cfa-47b7-450c-971f-e579299be8d6",
   "metadata": {
    "tags": []
   },
   "outputs": [],
   "source": [
    "%%time\n",
    "# hrrr winter features. if last_year = False -> calc all historical data\n",
    "hrrr_winter_features.winter_features(path_timeseries= PATH_TIMESERIES, \n",
    "                                     features_save_path=PATH_WINTER_FEATURES, \n",
    "                                     last_year=True)"
   ]
  },
  {
   "cell_type": "markdown",
   "id": "d325d432-82c4-4603-ad26-69280c159f62",
   "metadata": {},
   "source": [
    "### MODIS features"
   ]
  },
  {
   "cell_type": "code",
   "execution_count": null,
   "id": "55e3af0d-7335-4e4f-8cdb-9132a94f8835",
   "metadata": {
    "tags": []
   },
   "outputs": [],
   "source": [
    "%%time\n",
    "for year in os.listdir(PATH_MODIS):\n",
    "    path = os.path.join(PATH_MODIS, year)\n",
    "    modis_features.modis_features(path, grid_cells, all_files=True,\n",
    "                   last_files=0, output_path=PATH_MODIS_FEATURES)"
   ]
  },
  {
   "cell_type": "code",
   "execution_count": null,
   "id": "3f682156-b0b2-4c84-9ef0-bc770657e647",
   "metadata": {},
   "outputs": [],
   "source": [
    "paths_modis = list(Path(PATH_MODIS_FEATURES).rglob('*.csv'))\n",
    "df_modis = modis_features.get_modis_df(paths_modis, dates)\n",
    "df_modis['valid_time'] = df_modis['valid_time'].dt.date.astype(str)"
   ]
  },
  {
   "cell_type": "markdown",
   "id": "f50b495e-37ab-4330-a16f-dda65763d4bb",
   "metadata": {},
   "source": [
    "# Make inference dataset "
   ]
  },
  {
   "cell_type": "code",
   "execution_count": null,
   "id": "1d665311-376f-4334-a567-14c1427aecc0",
   "metadata": {},
   "outputs": [],
   "source": [
    "sub = pd.read_csv('data/input/submission_format_2022.csv')\n",
    "sub = sub.melt('Unnamed: 0').fillna(0)\n",
    "sub.columns = ['cell_id', 'valid_time', 'swe']\n",
    "sub = sub.set_index(['valid_time', 'cell_id'])"
   ]
  },
  {
   "cell_type": "code",
   "execution_count": null,
   "id": "3f3f1602-9621-45cb-a83c-10f47cb78bc5",
   "metadata": {},
   "outputs": [],
   "source": [
    "paths_week_f = list(Path(PATH_WEEK_FEATURES).rglob('*.csv'))\n",
    "df_week = [pd.read_csv(p) for p in paths_week_f]\n",
    "df_week = pd.concat(df_week)\n",
    "\n",
    "paths_winter_f = list(Path(PATH_WINTER_FEATURES).rglob('*.csv'))\n",
    "df_winter = [pd.read_csv(p) for p in paths_winter_f]\n",
    "df_winter = pd.concat(df_winter)\n",
    "\n",
    "df_dem = pd.read_csv('data/raw/dem_features.csv')\n",
    "\n",
    "df_grid = grid_cells.copy()\n",
    "df_grid = gpd.GeoDataFrame(df_grid, geometry=df_grid.centroid)\n",
    "df_grid['lon'] = df_grid.geometry.x\n",
    "df_grid['lat'] = df_grid.geometry.y\n",
    "df_grid = df_grid[['cell_id', 'lon', 'lat']]"
   ]
  },
  {
   "cell_type": "code",
   "execution_count": null,
   "id": "a82a9035-2510-4b1e-9eba-b17a4a16b8cb",
   "metadata": {},
   "outputs": [],
   "source": [
    "df = sub.reset_index().copy()\n",
    "\n",
    "df = df.merge(df_week, on=['cell_id', 'valid_time'], how='left')\n",
    "df = df.merge(df_winter, on=['cell_id', 'valid_time'], how='left')\n",
    "df = df.merge(df_dem, on=['cell_id'], how='left')\n",
    "df = df.merge(df_grid, on=['cell_id'], how='left')\n",
    "df = df.merge(df_modis, on=['cell_id', 'valid_time'])\n",
    "\n",
    "df['dt_date'] = pd.to_datetime(df['valid_time'], format='%Y-%m-%d') \n",
    "df['dayofyear'] = df['dt_date'].dt.dayofyear\n",
    "df['year'] = df['dt_date'].dt.year\n",
    "df = df.drop(['dt_date'], axis=1)\n",
    "df = df[cols]"
   ]
  },
  {
   "cell_type": "markdown",
   "id": "009a7140-d5c8-423a-bb2c-5d14628b066e",
   "metadata": {},
   "source": [
    "# Run Model"
   ]
  },
  {
   "cell_type": "markdown",
   "id": "fa7f6c91-b2ac-4320-8a32-7131d910ed49",
   "metadata": {},
   "source": [
    "## Read pickle"
   ]
  },
  {
   "cell_type": "code",
   "execution_count": null,
   "id": "c1ecb14a-1cd9-4a81-a01f-44477f9a0fb3",
   "metadata": {},
   "outputs": [],
   "source": [
    "models_readed = []\n",
    "with open('models/'+'models_final.pkl', 'rb') as f:\n",
    "    while True:\n",
    "        try:\n",
    "            models_readed.append(pickle.load(f))\n",
    "        except EOFError:\n",
    "            break"
   ]
  },
  {
   "cell_type": "markdown",
   "id": "e33ab993-0f80-46b6-ba68-6eef55831ae1",
   "metadata": {},
   "source": [
    "## Models"
   ]
  },
  {
   "cell_type": "code",
   "execution_count": null,
   "id": "e6dc8090-b750-4a6a-8732-5f840e3503f7",
   "metadata": {},
   "outputs": [],
   "source": [
    "rf, xgb_1, lgb_1, ctb_1, clf_meta = models_readed\n",
    "zoo_names=['xgb_1', 'lgb_1', 'ctb_1']\n",
    "zoo=[xgb_1, lgb_1, ctb_1]\n",
    "df['rf_org_value_v2'] = rf.predict(df[['lat', 'lon', 'alt', 'year', 'dayofyear']])\n",
    "Z=df.drop(['cell_id','valid_time', 'year'],axis=1)"
   ]
  },
  {
   "cell_type": "markdown",
   "id": "ccd6fe76-5819-4fc5-b8ed-bf596c838c51",
   "metadata": {},
   "source": [
    "## Predict and make submission"
   ]
  },
  {
   "cell_type": "code",
   "execution_count": null,
   "id": "8bc8a5d9-8382-4a1b-aa96-065e71a77503",
   "metadata": {},
   "outputs": [],
   "source": [
    "%%time\n",
    "name=0\n",
    "Z_meta_f=pd.DataFrame(columns=zoo_names, index=Z.index).fillna(value=0)\n",
    "\n",
    "for model in zoo: \n",
    "    Z_meta_f[zoo_names[name]]=model.predict(Z)\n",
    "    name+=1\n",
    "\n",
    "for i in Z_meta_f.columns:\n",
    "    Z_meta_f[Z_meta_f[i]<0]=0\n",
    "\n",
    "res=pd.DataFrame(clf_meta.predict(Z_meta_f))\n",
    "res.columns=['swe_pred']\n",
    "\n",
    "res = pd.concat([df[['cell_id', 'valid_time']], res], axis=1).set_index(['valid_time', 'cell_id'])\n",
    "sub.loc[sub.index.isin(res.index), 'swe'] = res['swe_pred']\n",
    "res_pivot = sub.reset_index().pivot(index='cell_id', columns='valid_time', values='swe')"
   ]
  },
  {
   "cell_type": "code",
   "execution_count": null,
   "id": "642b887e-81f9-4eaa-807f-02c3e7f8bcec",
   "metadata": {},
   "outputs": [],
   "source": [
    "res_pivot.to_csv(f'sub_{str(datetime.now().date())}.csv', index=True)"
   ]
  }
 ],
 "metadata": {
  "kernelspec": {
   "display_name": "Python 3 (ipykernel)",
   "language": "python",
   "name": "python3"
  },
  "language_info": {
   "codemirror_mode": {
    "name": "ipython",
    "version": 3
   },
   "file_extension": ".py",
   "mimetype": "text/x-python",
   "name": "python",
   "nbconvert_exporter": "python",
   "pygments_lexer": "ipython3",
   "version": "3.9.5"
  },
  "toc-autonumbering": true,
  "toc-showcode": false,
  "toc-showmarkdowntxt": false,
  "toc-showtags": false
 },
 "nbformat": 4,
 "nbformat_minor": 5
}
