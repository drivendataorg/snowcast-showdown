{
 "cells": [
  {
   "cell_type": "code",
   "execution_count": null,
   "id": "f847be62-9612-4960-9a47-f4b6493fb187",
   "metadata": {},
   "outputs": [],
   "source": [
    "import warnings\n",
    "warnings.filterwarnings('ignore')\n",
    "\n",
    "import numpy as np\n",
    "import rasterio as rio\n",
    "import xarray as xr\n",
    "import pandas as pd\n",
    "import geopandas as gpd\n",
    "import matplotlib.pyplot as plt\n",
    "import os\n",
    "from joblib import Parallel, delayed\n",
    "from tqdm import tqdm\n",
    "from pathlib import Path\n",
    "import tempfile\n",
    "import utm\n",
    "from pathlib import Path\n",
    "import glob\n",
    "from shapely.geometry import Point\n",
    "from osgeo import gdal\n",
    "import tempfile\n",
    "from shapely.geometry import box\n",
    "import rasterio as rio \n",
    "from rasterio.merge import merge\n",
    "from tqdm.auto import tqdm\n",
    "import pyproj\n",
    "from functools import partial\n",
    "from shapely.ops import transform\n",
    "import richdem as rd\n",
    "from src.data import download_dem \n",
    "%matplotlib inline"
   ]
  },
  {
   "cell_type": "code",
   "execution_count": null,
   "id": "4ea21d26-0938-48c6-81d2-7a07e6c31ffa",
   "metadata": {},
   "outputs": [],
   "source": [
    "# Сhange paths as needed, specify absolute paths\n",
    "DATA_FOLDER  = f'C:/Users/wrkstation/projects/snowcast/data/'\n",
    "PATH_DEM_MOSAIC = 'C:/Users/wrkstation/projects/snowcast/data/processed/dem_mosaic/'\n",
    "INPUT_FOLDER = 'C:/Users/wrkstation/projects/snowcast/data/processed/'\n",
    "OUTPUT_FOLDER = 'C:/Users/wrkstation/projects/snowcast/data/external/dem_tiles'"
   ]
  },
  {
   "cell_type": "code",
   "execution_count": null,
   "id": "a15149e9-17f2-4d70-b506-c6951540028a",
   "metadata": {},
   "outputs": [],
   "source": [
    "def get_tile_bounds(files):\n",
    "    bounds = []\n",
    "    for file in files:\n",
    "        tile = rio.open(file)\n",
    "        # file_name = file.split('/')[-1]\n",
    "        bound = box(*tile.bounds)\n",
    "        bounds.append([file, bound])\n",
    "        tile.close()\n",
    "    bounds = pd.DataFrame(bounds, columns=['tile', 'geometry'])\n",
    "    bounds = gpd.GeoDataFrame(bounds, geometry='geometry')\n",
    "    bounds = bounds.set_crs(epsg=4326)\n",
    "    return bounds"
   ]
  },
  {
   "cell_type": "code",
   "execution_count": null,
   "id": "6037b0cc-f2f9-4de3-b0d0-894907501979",
   "metadata": {},
   "outputs": [],
   "source": [
    "def geodesic_buffer(lon, lat, km):\n",
    "    \"\"\"Create geodesic buffer around a given point (lat, lon).\"\"\"\n",
    "    # Azimuthal equidistant projection\n",
    "    proj_wgs84 = pyproj.Proj('+proj=longlat +datum=WGS84')\n",
    "    aeqd_proj = '+proj=aeqd +lat_0={lat} +lon_0={lon} +x_0=0 +y_0=0'\n",
    "    project = partial(\n",
    "        pyproj.transform,\n",
    "        pyproj.Proj(aeqd_proj.format(lon=lon, lat=lat)),\n",
    "        proj_wgs84)\n",
    "    buf = Point(0, 0).buffer(km * 1000)  # distance in metres\n",
    "    return transform(project, buf)\n",
    "\n",
    "def tiles_to_mosaic(files, output_path, file_name, proj='+proj=longlat +datum=WGS84 +no_defs'):\n",
    "    \n",
    "    if not os.path.exists(output_path):\n",
    "        os.makedirs(output_path)\n",
    "    \n",
    "    src_files_to_mosaic = []\n",
    "    for fp in files:\n",
    "        src = rio.open(fp)\n",
    "        src_files_to_mosaic.append(src)\n",
    "        \n",
    "    mosaic, out_trans = merge(src_files_to_mosaic)\n",
    "    \n",
    "    out_meta = src.meta.copy()\n",
    "    out_meta.update({\"driver\": \"GTiff\",\n",
    "                        \"height\": mosaic.shape[1],\n",
    "                        \"width\": mosaic.shape[2],\n",
    "                        \"transform\": out_trans,\n",
    "                         \"crs\": proj\n",
    "                         }\n",
    "                        )\n",
    "    out_file_name = Path(os.path.join(output_path, file_name))\n",
    "    with rio.open(out_file_name, \"w\", **out_meta) as dest:\n",
    "        dest.write(mosaic)"
   ]
  },
  {
   "cell_type": "code",
   "execution_count": null,
   "id": "1eed39a3-0cdd-4200-a73d-7f3a39d903fe",
   "metadata": {},
   "outputs": [],
   "source": [
    "download_dem.main()"
   ]
  },
  {
   "cell_type": "code",
   "execution_count": null,
   "id": "d60385c5-8558-4716-a6fb-343952ad8784",
   "metadata": {},
   "outputs": [],
   "source": [
    "files = glob.glob(os.path.join(DATA_FOLDER + 'external/dem_tiles/', '*.tif'))"
   ]
  },
  {
   "cell_type": "code",
   "execution_count": null,
   "id": "08af61c0-0a6a-4efc-8aee-c36d3f0690e1",
   "metadata": {},
   "outputs": [],
   "source": [
    "tile_bounds = get_tile_bounds(files)"
   ]
  },
  {
   "cell_type": "code",
   "execution_count": null,
   "id": "eaedff12-2dc9-4e09-ab27-7705ac340e3e",
   "metadata": {},
   "outputs": [],
   "source": [
    "grid_clusters = gpd.read_file(Path(os.path.join(os.path.join(DATA_FOLDER, 'processed')), 'grid_clusters.geojson'))\n",
    "grid_points = gpd.read_file(Path(os.path.join(os.path.join(DATA_FOLDER, 'processed')), 'grid_cells_points.geojson'))"
   ]
  },
  {
   "cell_type": "code",
   "execution_count": null,
   "id": "54497f1a-e6a4-4bf2-b94b-dd103c51c4e8",
   "metadata": {},
   "outputs": [],
   "source": [
    "tile_bounds"
   ]
  },
  {
   "cell_type": "code",
   "execution_count": null,
   "id": "f3214662-aa44-487c-8c31-c336302ac26e",
   "metadata": {},
   "outputs": [],
   "source": [
    "grid1 = gpd.read_file(Path(os.path.join(os.path.join(DATA_FOLDER, 'input')), 'grid_cells.geojson'))\n",
    "grid2 = gpd.read_file(Path(os.path.join(os.path.join(DATA_FOLDER, 'input')), 'grid_cell_stage2.geojson'))\n",
    "grid = pd.concat([grid1, grid2])\n",
    "grid = grid.drop_duplicates('cell_id')\n",
    "grid = gpd.GeoDataFrame(grid, geometry=grid.centroid)\n",
    "grid = grid.reset_index(drop=True)\n",
    "grid = gpd.sjoin(grid, tile_bounds)\n",
    "grid = grid.drop('index_right', axis=1)\n",
    "grid = gpd.sjoin(grid, grid_clusters, how='left')\n",
    "grid = grid.fillna(-1)\n",
    "grid = grid.drop('index_right', axis=1)"
   ]
  },
  {
   "cell_type": "code",
   "execution_count": null,
   "id": "eb51f46d-edc6-4a96-857e-bdc639f51a80",
   "metadata": {},
   "outputs": [],
   "source": [
    "grid['lon'] = grid.geometry.x\n",
    "grid['lat'] = grid.geometry.y"
   ]
  },
  {
   "cell_type": "code",
   "execution_count": null,
   "id": "50f91630-a94c-4527-9423-ed91781d287c",
   "metadata": {},
   "outputs": [],
   "source": [
    "%%time\n",
    "grid['buff_500'] = grid.apply(lambda row: geodesic_buffer(row['lon'], row['lat'], 500 / 1000), axis=1)\n",
    "grid['buff_200'] = grid.apply(lambda row: geodesic_buffer(row['lon'], row['lat'], 200 / 1000), axis=1)"
   ]
  },
  {
   "cell_type": "code",
   "execution_count": null,
   "id": "a2db8015-554f-4a0e-9448-e89e0d54cf38",
   "metadata": {},
   "outputs": [],
   "source": [
    "for clst in tqdm(grid['cluster'].unique()):\n",
    "    if clst != -1:\n",
    "        files = grid[grid['cluster']==clst]['tile'].drop_duplicates().values\n",
    "        files = [Path(f) for f in files]\n",
    "        tiles_to_mosaic(files, DATA_FOLDER + 'processed/dem_mosaic/', f'dem_{int(clst)}.tif')"
   ]
  },
  {
   "cell_type": "code",
   "execution_count": null,
   "id": "aa01ded8-b9ae-45a8-a27a-0550df3bf764",
   "metadata": {},
   "outputs": [],
   "source": [
    "def clip_dem_by_buffer(cell):\n",
    "    tmp_dem='processed/dem_tmp'\n",
    "    tmp_dem = os.path.join(DATA_FOLDER, tmp_dem)\n",
    "    if not os.path.exists(tmp_dem):\n",
    "        os.makedirs(tmp_dem)\n",
    "\n",
    "    if cell.cluster>0:\n",
    "        dem_path = os.path.join(PATH_DEM_MOSAIC, f'dem_{int(cell.cluster)}.tif')\n",
    "        dem_path = str(Path(dem_path))\n",
    "    else:\n",
    "        dem_path = cell.tile\n",
    "        dem_path = str(Path(dem_path))\n",
    "\n",
    "    for r in [200, 500]:\n",
    "        temp_dem = tempfile.NamedTemporaryFile()\n",
    "        temp_dem.close()\n",
    "        gdf = gpd.GeoDataFrame(geometry=[cell[f'buff_{r}']])\n",
    "        gdf = gdf.set_crs(epsg=4326)\n",
    "        temp = tempfile.NamedTemporaryFile()\n",
    "        gdf.to_file(temp.name, driver='GeoJSON')\n",
    "\n",
    "        out = os.path.join(tmp_dem, f'{cell.cell_id}_{r}.tif')\n",
    "        out = str(Path(out))\n",
    "        cmd = f'gdalwarp -cutline {temp.name} -crop_to_cutline -dstnodata -9999 {dem_path} {out}'\n",
    "        os.system(cmd)\n",
    "\n"
   ]
  },
  {
   "cell_type": "code",
   "execution_count": null,
   "id": "8b9cca59-1710-49ba-adfd-941a23ff7f2d",
   "metadata": {},
   "outputs": [],
   "source": [
    "_ = Parallel(n_jobs=-1,)(delayed(clip_dem_by_buffer)(i[1]) for i in tqdm(grid.iterrows(), total=grid.shape[0]))"
   ]
  },
  {
   "cell_type": "code",
   "execution_count": null,
   "id": "5fa33555-1606-41ba-91c6-c87dc2c3522c",
   "metadata": {},
   "outputs": [],
   "source": [
    "import richdem as rd"
   ]
  },
  {
   "cell_type": "code",
   "execution_count": null,
   "id": "5700aec0-39a8-4881-96ec-0c12a12ee132",
   "metadata": {},
   "outputs": [],
   "source": [
    "def array_stats(arr, idx, prefix, suffix, nan=-9999):\n",
    "    try:\n",
    "        in_point = np.take(arr, arr.size // 2)\n",
    "    except Exception:\n",
    "        in_point = np.nan\n",
    "    \n",
    "    try:\n",
    "        minimum = np.min(arr[arr!=nan])\n",
    "    except Exception:\n",
    "        minimum = np.nan\n",
    "        \n",
    "    try:\n",
    "        maximum = np.max(arr[arr!=nan])\n",
    "    except Exception:\n",
    "        maximum = np.nan\n",
    "        \n",
    "    try:\n",
    "        mean = arr[arr!=nan].mean()\n",
    "    except Exception:\n",
    "        mean = np.nan\n",
    "    try:\n",
    "        median = np.median(arr[arr!=nan])\n",
    "    except Exception:\n",
    "        median = np.nan\n",
    "    \n",
    "    # majority = np.argmax(np.bincount(arr.astype(int)[arr!=nan]))\n",
    "    \n",
    "    out =  {f'{prefix}_{suffix}' : float(in_point), \n",
    "            f'{prefix}_min_{suffix}' : float(minimum),\n",
    "            f'{prefix}_max_{suffix}' : float(maximum),\n",
    "            f'{prefix}_mean_{suffix}' : float(mean),\n",
    "            f'{prefix}_median_{suffix}' : float(median), \n",
    "            # f'{prefix}_majority_{suffix}' : float(majority),\n",
    "            'idx' : idx\n",
    "           }\n",
    "    \n",
    "    return pd.DataFrame(pd.Series(out)).T\n",
    "    \n"
   ]
  },
  {
   "cell_type": "code",
   "execution_count": null,
   "id": "b51fea02-eb63-4d2a-be80-845ee1fa0e72",
   "metadata": {
    "tags": []
   },
   "outputs": [],
   "source": [
    "\n",
    "def get_raster_stats(dem_buff_file, tmp_dem='processed/dem_tmp/'):\n",
    "    fullpath = os.path.join(tmp_dem, dem_buff_file)\n",
    "    fullpath = str(Path(fullpath))\n",
    "    \n",
    "    radius = int(dem_buff_file.split('_')[-1].split('.')[0])\n",
    "    idx = dem_buff_file.split('_')[0]\n",
    "    dem = rd.LoadGDAL(fullpath, no_data=-9999)\n",
    "    slope = rd.TerrainAttribute(dem, attrib='slope_degrees') \n",
    "    aspect = rd.TerrainAttribute(dem, attrib='aspect')\n",
    "    curv_prof = rd.TerrainAttribute(dem, attrib='profile_curvature')\n",
    "    curv_plan = rd.TerrainAttribute(dem, attrib='planform_curvature')\n",
    "    curv = rd.TerrainAttribute(dem, attrib='curvature')\n",
    "    gdal.DEMProcessing(os.path.join(tmp_dem, 'tri_' + dem_buff_file),  gdal.Open(fullpath), 'TRI', computeEdges=True)\n",
    "    tri = gdal.Open(os.path.join(tmp_dem, 'tri_' + dem_buff_file)).ReadAsArray()\n",
    "\n",
    "    out = pd.concat([array_stats(dem, idx, 'alt', radius),\n",
    "    array_stats(slope, idx, 'slope', radius),\n",
    "    array_stats(aspect, idx, 'aspect', radius),\n",
    "    array_stats(curv_prof, idx, 'curv_prof', radius),\n",
    "    array_stats(curv_plan, idx, 'curv_plan', radius),                 \n",
    "    array_stats(curv, idx, 'curv', radius),\n",
    "    array_stats(tri, idx, 'tri', radius),\n",
    "    ], axis=1)\n",
    "    \n",
    "    return out"
   ]
  },
  {
   "cell_type": "code",
   "execution_count": null,
   "id": "1dca5313-ba20-43c6-a29b-53ebc01c3aad",
   "metadata": {},
   "outputs": [],
   "source": [
    "tmp_dem='processed/dem_tmp'\n",
    "tmp_dem = os.path.join(DATA_FOLDER, tmp_dem)"
   ]
  },
  {
   "cell_type": "code",
   "execution_count": null,
   "id": "2c3c3652-ca3a-4bba-bc2f-26c2960fcc81",
   "metadata": {},
   "outputs": [],
   "source": [
    "files_200 = [f for f in os.listdir(tmp_dem) if f.endswith('200.tif')]\n",
    "files_500 = [f for f in os.listdir(tmp_dem) if f.endswith('500.tif')]"
   ]
  },
  {
   "cell_type": "code",
   "execution_count": null,
   "id": "a4eef818-fa25-4058-b9c2-e7571bbe80eb",
   "metadata": {},
   "outputs": [],
   "source": [
    "df_200 = Parallel(n_jobs=-1,)(delayed(get_raster_stats)(i, tmp_dem=tmp_dem) for i in tqdm(files_200))\n",
    "df_500 = Parallel(n_jobs=-1,)(delayed(get_raster_stats)(i, tmp_dem=tmp_dem) for i in tqdm(files_500))"
   ]
  },
  {
   "cell_type": "code",
   "execution_count": null,
   "id": "8a4722d6-b570-4299-81c2-777d756acd16",
   "metadata": {
    "tags": []
   },
   "outputs": [],
   "source": [
    "pd.concat(df_200).to_csv('data/processed/dem_features_200.csv', index=False)"
   ]
  },
  {
   "cell_type": "code",
   "execution_count": null,
   "id": "06188e6d-eea7-46b3-8a09-587b0b6cf8cd",
   "metadata": {},
   "outputs": [],
   "source": [
    "pd.concat(df_500).to_csv('data/processed/dem_features_500.csv', index=False)"
   ]
  },
  {
   "cell_type": "code",
   "execution_count": null,
   "id": "6dff80cc-5f72-420a-8bd2-0e3343118014",
   "metadata": {},
   "outputs": [],
   "source": [
    "df_200 = pd.concat(df_200)\n",
    "df_500 = pd.concat(df_500)"
   ]
  },
  {
   "cell_type": "code",
   "execution_count": null,
   "id": "c0447422-1df6-4370-a561-4a9bb6b76fb7",
   "metadata": {},
   "outputs": [],
   "source": [
    "df_200 = df_200.loc[:,~df_200.columns.duplicated()]\n",
    "df_500 = df_500.loc[:,~df_500.columns.duplicated()]"
   ]
  },
  {
   "cell_type": "code",
   "execution_count": null,
   "id": "d8d5d807-2b02-47b8-a1a9-b6aaa9faeb4c",
   "metadata": {},
   "outputs": [],
   "source": [
    "dem_features = df_200.merge(df_500, on='idx')"
   ]
  },
  {
   "cell_type": "code",
   "execution_count": null,
   "id": "a51d6d5e-c2c8-49cd-83fa-3d9b1b7769bd",
   "metadata": {},
   "outputs": [],
   "source": [
    "dem_features"
   ]
  },
  {
   "cell_type": "code",
   "execution_count": null,
   "id": "02bdc32c-cbe5-415b-8406-186339387881",
   "metadata": {},
   "outputs": [],
   "source": [
    "cols = [\n",
    "    'idx',\n",
    "        'alt_200',\n",
    "    # 'alt',\n",
    "    'alt_min_200', 'alt_max_200', 'alt_mean_200',\n",
    "'slope_200', 'slope_mean_200', 'slope_median_200', \n",
    "'aspect_200','aspect_mean_200', 'aspect_median_200',\n",
    "'curv_prof_200', 'curv_prof_mean_200', 'curv_prof_median_200', \n",
    "'curv_200', 'curv_mean_200', 'curv_median_200',\n",
    "'curv_plan_200', 'curv_plan_mean_200', 'curv_plan_median_200',      \n",
    "'tri_200',  'tri_mean_200','tri_median_200',\n",
    "\n",
    "'alt_min_500', 'alt_max_500', 'alt_mean_500', 'alt_median_500', \n",
    "'slope_mean_500', 'slope_median_500',\n",
    "'aspect_mean_500','aspect_median_500', \n",
    "'curv_prof_mean_500', 'curv_prof_median_500',\n",
    "'curv_plan_mean_500', 'curv_plan_median_500', \n",
    "'curv_mean_500', 'curv_median_500',\n",
    "'tri_mean_500', 'tri_median_500'\n",
    "       ]"
   ]
  },
  {
   "cell_type": "code",
   "execution_count": null,
   "id": "5f22f738-52dc-4b44-bdac-379e9cefe8ef",
   "metadata": {},
   "outputs": [],
   "source": [
    "dem_features = dem_features[cols]"
   ]
  },
  {
   "cell_type": "code",
   "execution_count": null,
   "id": "07cac74c-9863-402f-b5b6-276181f58154",
   "metadata": {},
   "outputs": [],
   "source": [
    "dem_features = dem_features.rename(columns={'idx':'cell_id', \n",
    "                                            'alt_200':'alt',\n",
    "                                            'slope_200':'slope',\n",
    "                                            'aspect_200':'aspect',\n",
    "                                            'curv_prof_200':'curv_prof',\n",
    "                                            'curv_200':'curv',\n",
    "                                            'curv_plan_200':'curv_plan',\n",
    "                                            'tri_200':'tri',\n",
    "                                           }\n",
    "                                  )"
   ]
  },
  {
   "cell_type": "code",
   "execution_count": null,
   "id": "b6835205-c726-46cf-aafc-650d8188ce60",
   "metadata": {},
   "outputs": [],
   "source": [
    "dem_features.to_csv('data/raw/dem_features.csv', index=False)"
   ]
  },
  {
   "cell_type": "code",
   "execution_count": null,
   "id": "c1749e65-41bf-4721-bbd6-be683b787ed9",
   "metadata": {},
   "outputs": [],
   "source": [
    "dem_features.columns"
   ]
  }
 ],
 "metadata": {
  "kernelspec": {
   "display_name": "Python 3 (ipykernel)",
   "language": "python",
   "name": "python3"
  },
  "language_info": {
   "codemirror_mode": {
    "name": "ipython",
    "version": 3
   },
   "file_extension": ".py",
   "mimetype": "text/x-python",
   "name": "python",
   "nbconvert_exporter": "python",
   "pygments_lexer": "ipython3",
   "version": "3.9.5"
  }
 },
 "nbformat": 4,
 "nbformat_minor": 5
}
